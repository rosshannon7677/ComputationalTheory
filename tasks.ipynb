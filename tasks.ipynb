{
 "cells": [
  {
   "attachments": {},
   "cell_type": "markdown",
   "metadata": {},
   "source": [
    "\n",
    "## Task 1: Binary Representations\n",
    "\n",
    "Task 1 is showing how 4 different functions are used to manipulate **32-bit numbers**.  \n",
    "These functions are mainly used in **encryption methods.** "
   ]
  },
  {
   "cell_type": "markdown",
   "metadata": {},
   "source": [
    "\n",
    "### Rotating Bits Left (`rotl`)\n",
    "\n",
    "The `rotl(x, n)` function moves the bits of a number to the left by **n** places.  \n",
    "When the numbers have reached the end of the 32-bit on the left it then wraps around to the right side to continue.   \n",
    "**0xFFFFFFFF** is used to keep the number within the 32 bits. [Rotating bits of a number](https://www.geeksforgeeks.org/python3-program-to-rotate-bits-of-a-number/)."
   ]
  },
  {
   "cell_type": "code",
   "execution_count": 41,
   "metadata": {},
   "outputs": [],
   "source": [
    "def rotl(x, n=1):\n",
    "    \"\"\"\n",
    "    Rotates the bits in a 32-bit integer to the left by n places.\n",
    "    \"\"\"\n",
    "    n = n % 32  # Ensure n is within valid bit range (0-31)\n",
    "    return ((x << n) & 0xFFFFFFFF) | (x >> (32 - n))"
   ]
  },
  {
   "cell_type": "markdown",
   "metadata": {},
   "source": [
    "#### **Rotating Bits Right (`rotr`)**\n",
    "\n",
    "The `rotr(x, n)` function moves the bits of a number to the left by **n** places.  \n",
    "When the numbers have reached the end of the 32-bit on the right it then wraps around to the left side to continue.  \n",
    "Commonly used in **cryptography** for a fast way to secure data.  "
   ]
  },
  {
   "cell_type": "code",
   "execution_count": 42,
   "metadata": {},
   "outputs": [],
   "source": [
    "def rotr(x, n=1):\n",
    "    \"\"\"\n",
    "    Rotates the bits in a 32-bit integer to the right by n places.\n",
    "    \"\"\"\n",
    "    n = n % 32  # Ensure n is within valid bit range (0-31)\n",
    "    return (x >> n) | ((x << (32 - n)) & 0xFFFFFFFF)"
   ]
  },
  {
   "cell_type": "markdown",
   "metadata": {},
   "source": [
    "#### **Bitwise Choice (`ch`)**\n",
    "\n",
    "The `ch(x, y, z)` function chooses bits from `y` or `z` based on the value in `x`.  \n",
    "If a bit in `x` is `1`, it takes the bit from `y`.  \n",
    "If a bit in `x` is `0`, it takes the bit from `z`.  \n",
    "`ch` is important in **cryptography**, especially in SHA-256 hashing, where bits are choosen based on conditions.  "
   ]
  },
  {
   "cell_type": "code",
   "execution_count": 43,
   "metadata": {},
   "outputs": [],
   "source": [
    "def ch(x, y, z):\n",
    "    \"\"\"\n",
    "    Chooses bits from y where x has bits set to 1, and from z where x has bits set to 0.\n",
    "    Returns:\n",
    "    int: Resulting 32-bit integer after bitwise choice\n",
    "    \"\"\"\n",
    "    return (x & y) | (~x & z)  # If x bit is 1 -> choose from y, else from z\n"
   ]
  },
  {
   "cell_type": "markdown",
   "metadata": {},
   "source": [
    "#### **Bitwise Majority (`maj`)**\n",
    "\n",
    "The `maj(x, y, z)` function checks each bit position in `x`,`y` and `z` and then chooses to keep the **majority value**.  \n",
    "If at least **two out of the three** numbers have a `1` at a bit position, the result will also have `1` there.  \n",
    "Otherwise, it will be `0`.  \n",
    "This function is used in **secure hashing algorithms** to ensure consistency.  "
   ]
  },
  {
   "cell_type": "code",
   "execution_count": 44,
   "metadata": {},
   "outputs": [],
   "source": [
    "def maj(x, y, z):\n",
    "    \"\"\"\n",
    "    Majority votes of bits in x, y, and z.\n",
    "\n",
    "    Parameters:\n",
    "    x (int): 32-bit integer\n",
    "    y (int): 32-bit integer\n",
    "    z (int): 32-bit integer\n",
    "\n",
    "    Returns:\n",
    "    int: Resulting 32-bit integer after bitwise majority\n",
    "    \"\"\"\n",
    "    return (x & y) | (x & z) | (y & z)  # A bit is 1 if at least two of x, y, z have 1s"
   ]
  },
  {
   "cell_type": "markdown",
   "metadata": {},
   "source": [
    "### Testing the Bitwise Functions\n",
    "\n",
    "Here we define 3 **32-bit integers** and showcase the functions for testing.\n",
    "\n",
    "#### **Defining 32-bit Test Values**\n",
    "We use 3 **binary numbers** as inputs:\n",
    "- `x = 0b10110011100011110000111100001111` → A randomly chosen **32-bit integer**.\n",
    "- `y = 0b11001100110011001100110011001100` → A pattern of alternating bits.\n",
    "- `z = 0b00001111000011110000111100001111` → High and low bit sequences.\n",
    "\n",
    "These values showcase to us that the functions correctly handle the bits at different positions."
   ]
  },
  {
   "cell_type": "code",
   "execution_count": 45,
   "metadata": {},
   "outputs": [
    {
     "name": "stdout",
     "output_type": "stream",
     "text": [
      "Original x: 0b10110011100011110000111100001111\n",
      "rotl(x, 4): 0b111000111100001111000011111011\n",
      "rotr(x, 4): 0b11111011001110001111000011110000\n",
      "ch(x, y, z): 0b10001100100011000000110000001100\n",
      "maj(x, y, z): 0b10001111100011110000111100001111\n"
     ]
    }
   ],
   "source": [
    "# Define 32-bit example values for testing\n",
    "x = 0b10110011100011110000111100001111  # Example 32-bit integer\n",
    "y = 0b11001100110011001100110011001100\n",
    "z = 0b00001111000011110000111100001111\n",
    "\n",
    "# Testing the functions\n",
    "if __name__ == \"__main__\":\n",
    "    print(f\"Original x: {bin(x)}\")\n",
    "    print(f\"rotl(x, 4): {bin(rotl(x, 4))}\")\n",
    "    print(f\"rotr(x, 4): {bin(rotr(x, 4))}\")\n",
    "    print(f\"ch(x, y, z): {bin(ch(x, y, z))}\")\n",
    "    print(f\"maj(x, y, z): {bin(maj(x, y, z))}\")"
   ]
  },
  {
   "attachments": {},
   "cell_type": "markdown",
   "metadata": {},
   "source": [
    "## Task 2: Hash Functions\n",
    "\n",
    "Task 2 function coverts `(s)` a string into a numeric hash value.  \n",
    "`hashval = 0` is the first value.  \n",
    "For loop which iterates through each char in `(s)`.  \n",
    "`(ord(char))` is used to convert the char to ASCII.  \n",
    "Multiply the hash value by `31` and then add the char ASCII value.  "
   ]
  },
  {
   "cell_type": "code",
   "execution_count": 46,
   "metadata": {},
   "outputs": [],
   "source": [
    "def hash_function(s: str) -> int:\n",
    "    \"\"\"\n",
    "    Parameters:\n",
    "    s (str): The input string.\n",
    "\n",
    "    Returns:\n",
    "    int: Hash value mod 101.\n",
    "    \"\"\"\n",
    "    hashval = 0\n",
    "    for char in s:\n",
    "        hashval = ord(char) + 31 * hashval\n",
    "    return hashval % 101"
   ]
  },
  {
   "cell_type": "markdown",
   "metadata": {},
   "source": [
    "### Testing the Hash Function\n",
    "\n",
    "Define a list of words to hash.  \n",
    "Call hash_function() on each word.  \n",
    "Print the results.  "
   ]
  },
  {
   "cell_type": "code",
   "execution_count": 53,
   "metadata": {},
   "outputs": [
    {
     "name": "stdout",
     "output_type": "stream",
     "text": [
      "Hash of 'john': 97\n",
      "Hash of 'smith': 19\n",
      "Hash of 'computational': 42\n",
      "Hash of 'theory': 77\n"
     ]
    }
   ],
   "source": [
    "# Testing the function\n",
    "test_strings = [\"john\", \"smith\", \"computational\", \"theory\"]\n",
    "for string in test_strings:\n",
    "    print(f\"Hash of '{string}': {hash_function(string)}\")"
   ]
  },
  {
   "cell_type": "markdown",
   "metadata": {},
   "source": [
    "**Why Use 31 and 101?**"
   ]
  },
  {
   "attachments": {},
   "cell_type": "markdown",
   "metadata": {},
   "source": [
    "## Task 3: SHA256\n",
    "\n",
    "In this step, we **read the input file** in **binary mode** and store its contents in a variable.  \n",
    "We also calculate the **original message length in bits** and initialize global variables.\n",
    "\n",
    "- The file is opened in **binary mode** (`rb`).\n",
    "- The data is read and stored in `data`.\n",
    "- The original message length is calculated in **bits**.\n",
    "- If the file is **missing**, an error message is shown."
   ]
  },
  {
   "cell_type": "code",
   "execution_count": null,
   "metadata": {},
   "outputs": [],
   "source": [
    "import os  # Importing OS for file handling\n",
    "\n",
    "# Define file path\n",
    "file_path = \"test.txt\"\n",
    "\n",
    "try:\n",
    "    with open(file_path, \"rb\") as f:\n",
    "        data = f.read()  # Read file contents as bytes\n",
    "except FileNotFoundError:\n",
    "    print(f\"Error: File '{file_path}' not found.\")\n",
    "    \n",
    "# Store variables globally so they can be used in later cells\n",
    "original_bit_length = len(data) * 8  \n",
    "\n",
    "print(\"Step 1: File read successfully!\")\n"
   ]
  },
  {
   "cell_type": "markdown",
   "metadata": {},
   "source": [
    "## Step 2: Append '1' Bit\n",
    "\n",
    "SHA-256 padding starts with **appending a single '1' bit** (`0x80` in hex).  \n",
    "This ensures that the message **always begins padding with `10000000`** in binary.\n",
    "\n",
    "📌 **What Happens Here?**\n",
    "- `b'\\x80'` is added to the `data`, creating the initial padded message.\n",
    "- This ensures padding starts with a `1` followed by zeros."
   ]
  },
  {
   "cell_type": "code",
   "execution_count": null,
   "metadata": {},
   "outputs": [],
   "source": [
    "# Append the '1' bit (0x80 in hex) to the message\n",
    "padded_data = data + b'\\x80'\n",
    "\n",
    "print(\"Step 2: 1-bit appended.\")"
   ]
  },
  {
   "cell_type": "markdown",
   "metadata": {},
   "source": []
  },
  {
   "cell_type": "code",
   "execution_count": null,
   "metadata": {},
   "outputs": [],
   "source": [
    "\n"
   ]
  },
  {
   "cell_type": "markdown",
   "metadata": {},
   "source": []
  },
  {
   "cell_type": "code",
   "execution_count": null,
   "metadata": {},
   "outputs": [],
   "source": [
    "\n"
   ]
  },
  {
   "cell_type": "markdown",
   "metadata": {},
   "source": []
  },
  {
   "cell_type": "code",
   "execution_count": null,
   "metadata": {},
   "outputs": [],
   "source": [
    "\n"
   ]
  },
  {
   "attachments": {},
   "cell_type": "markdown",
   "metadata": {},
   "source": [
    "## Task 4: Prime Numbers\n"
   ]
  },
  {
   "attachments": {},
   "cell_type": "markdown",
   "metadata": {},
   "source": [
    "## Task 5: Roots"
   ]
  },
  {
   "cell_type": "code",
   "execution_count": null,
   "metadata": {},
   "outputs": [],
   "source": []
  },
  {
   "attachments": {},
   "cell_type": "markdown",
   "metadata": {},
   "source": [
    "## Task 6: Proof of Work"
   ]
  },
  {
   "cell_type": "code",
   "execution_count": null,
   "metadata": {},
   "outputs": [],
   "source": []
  },
  {
   "attachments": {},
   "cell_type": "markdown",
   "metadata": {},
   "source": [
    "## Task 7: Turing Machines"
   ]
  },
  {
   "cell_type": "code",
   "execution_count": null,
   "metadata": {},
   "outputs": [],
   "source": []
  },
  {
   "attachments": {},
   "cell_type": "markdown",
   "metadata": {},
   "source": [
    "## Task 8: Computational Complexity"
   ]
  },
  {
   "cell_type": "code",
   "execution_count": null,
   "metadata": {},
   "outputs": [],
   "source": []
  }
 ],
 "metadata": {
  "kernelspec": {
   "display_name": "base",
   "language": "python",
   "name": "python3"
  },
  "language_info": {
   "codemirror_mode": {
    "name": "ipython",
    "version": 3
   },
   "file_extension": ".py",
   "mimetype": "text/x-python",
   "name": "python",
   "nbconvert_exporter": "python",
   "pygments_lexer": "ipython3",
   "version": "3.11.5"
  },
  "orig_nbformat": 4
 },
 "nbformat": 4,
 "nbformat_minor": 2
}
