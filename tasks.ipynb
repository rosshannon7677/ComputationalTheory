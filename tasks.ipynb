{
 "cells": [
  {
   "attachments": {},
   "cell_type": "markdown",
   "metadata": {},
   "source": [
    "\n",
    "## Task 1: Binary Representations\n",
    "\n",
    "Task 1 is showing how 4 different functions are used to manipulate **32-bit numbers**.  \n",
    "These functions are mainly used in **encryption methods.** "
   ]
  },
  {
   "cell_type": "markdown",
   "metadata": {},
   "source": [
    "\n",
    "### Rotating Bits Left (`rotl`)\n",
    "\n",
    "The `rotl(x, n)` function moves the bits of a number to the left by **n** places.  \n",
    "When the numbers have reached the end of the 32-bit on the left it then wraps around to the right side to continue.   \n",
    "**0xFFFFFFFF** is used to keep the number within the 32 bits. [Rotating bits of a number](https://www.geeksforgeeks.org/python3-program-to-rotate-bits-of-a-number/)."
   ]
  },
  {
   "cell_type": "code",
   "execution_count": 1,
   "metadata": {},
   "outputs": [],
   "source": [
    "def rotl(x, n=1):\n",
    "    \"\"\"\n",
    "    Rotates the bits in a 32-bit integer to the left by n places.\n",
    "    \"\"\"\n",
    "    n = n % 32  # Ensure n is within valid bit range (0-31)\n",
    "    return ((x << n) & 0xFFFFFFFF) | (x >> (32 - n))"
   ]
  },
  {
   "cell_type": "markdown",
   "metadata": {},
   "source": [
    "#### **Rotating Bits Right (`rotr`)**\n",
    "\n",
    "The `rotr(x, n)` function moves the bits of a number to the left by **n** places.  \n",
    "When the numbers have reached the end of the 32-bit on the right it then wraps around to the left side to continue.  \n",
    "Commonly used in **cryptography** for a fast way to secure data.  "
   ]
  },
  {
   "cell_type": "code",
   "execution_count": 2,
   "metadata": {},
   "outputs": [],
   "source": [
    "def rotr(x, n=1):\n",
    "    \"\"\"\n",
    "    Rotates the bits in a 32-bit integer to the right by n places.\n",
    "    \"\"\"\n",
    "    n = n % 32  # Ensure n is within valid bit range (0-31)\n",
    "    return (x >> n) | ((x << (32 - n)) & 0xFFFFFFFF)"
   ]
  },
  {
   "cell_type": "markdown",
   "metadata": {},
   "source": [
    "#### **Bitwise Choice (`ch`)**\n",
    "\n",
    "The `ch(x, y, z)` function chooses bits from `y` or `z` based on the value in `x`.  \n",
    "If a bit in `x` is `1`, it takes the bit from `y`.  \n",
    "If a bit in `x` is `0`, it takes the bit from `z`.  \n",
    "`ch` is important in **cryptography**, especially in SHA-256 hashing, where bits are choosen based on conditions.  "
   ]
  },
  {
   "cell_type": "code",
   "execution_count": 3,
   "metadata": {},
   "outputs": [],
   "source": [
    "def ch(x, y, z):\n",
    "    \"\"\"\n",
    "    Chooses bits from y where x has bits set to 1, and from z where x has bits set to 0.\n",
    "    Returns:\n",
    "    int: Resulting 32-bit integer after bitwise choice\n",
    "    \"\"\"\n",
    "    return (x & y) | (~x & z)  # If x bit is 1 -> choose from y, else from z\n"
   ]
  },
  {
   "cell_type": "markdown",
   "metadata": {},
   "source": [
    "#### **Bitwise Majority (`maj`)**\n",
    "\n",
    "The `maj(x, y, z)` function checks each bit position in `x`,`y` and `z` and then chooses to keep the **majority value**.  \n",
    "If at least **two out of the three** numbers have a `1` at a bit position, the result will also have `1` there.  \n",
    "Otherwise, it will be `0`.  \n",
    "This function is used in **secure hashing algorithms** to ensure consistency.  "
   ]
  },
  {
   "cell_type": "code",
   "execution_count": 4,
   "metadata": {},
   "outputs": [],
   "source": [
    "def maj(x, y, z):\n",
    "    \"\"\"\n",
    "    Majority votes of bits in x, y, and z.\n",
    "\n",
    "    Parameters:\n",
    "    x (int): 32-bit integer\n",
    "    y (int): 32-bit integer\n",
    "    z (int): 32-bit integer\n",
    "\n",
    "    Returns:\n",
    "    int: Resulting 32-bit integer after bitwise majority\n",
    "    \"\"\"\n",
    "    return (x & y) | (x & z) | (y & z)  # A bit is 1 if at least two of x, y, z have 1s"
   ]
  },
  {
   "cell_type": "markdown",
   "metadata": {},
   "source": [
    "### Testing the Bitwise Functions\n",
    "\n",
    "Here we define 3 **32-bit integers** and showcase the functions for testing.\n",
    "\n",
    "#### **Defining 32-bit Test Values**\n",
    "We use 3 **binary numbers** as inputs:\n",
    "- `x = 0b10110011100011110000111100001111` → A randomly chosen **32-bit integer**.\n",
    "- `y = 0b11001100110011001100110011001100` → A pattern of alternating bits.\n",
    "- `z = 0b00001111000011110000111100001111` → High and low bit sequences.\n",
    "\n",
    "These values showcase to us that the functions correctly handle the bits at different positions."
   ]
  },
  {
   "cell_type": "code",
   "execution_count": 5,
   "metadata": {},
   "outputs": [
    {
     "name": "stdout",
     "output_type": "stream",
     "text": [
      "Original x: 0b10110011100011110000111100001111\n",
      "rotl(x, 4): 0b111000111100001111000011111011\n",
      "rotr(x, 4): 0b11111011001110001111000011110000\n",
      "ch(x, y, z): 0b10001100100011000000110000001100\n",
      "maj(x, y, z): 0b10001111100011110000111100001111\n"
     ]
    }
   ],
   "source": [
    "# Define 32-bit example values for testing\n",
    "x = 0b10110011100011110000111100001111  # Example 32-bit integer\n",
    "y = 0b11001100110011001100110011001100\n",
    "z = 0b00001111000011110000111100001111\n",
    "\n",
    "# Testing the functions\n",
    "if __name__ == \"__main__\":\n",
    "    print(f\"Original x: {bin(x)}\")\n",
    "    print(f\"rotl(x, 4): {bin(rotl(x, 4))}\")\n",
    "    print(f\"rotr(x, 4): {bin(rotr(x, 4))}\")\n",
    "    print(f\"ch(x, y, z): {bin(ch(x, y, z))}\")\n",
    "    print(f\"maj(x, y, z): {bin(maj(x, y, z))}\")"
   ]
  },
  {
   "attachments": {},
   "cell_type": "markdown",
   "metadata": {},
   "source": [
    "## Task 2: Hash Functions\n",
    "\n",
    "Task 2 function coverts `(s)` a string into a numeric hash value.  \n",
    "`hashval = 0` is the first value.  \n",
    "For loop which iterates through each char in `(s)`.  \n",
    "`(ord(char))` is used to convert the char to ASCII.  \n",
    "Multiply the hash value by `31` and then add the char ASCII value.  "
   ]
  },
  {
   "cell_type": "code",
   "execution_count": 6,
   "metadata": {},
   "outputs": [],
   "source": [
    "def hash_function(s: str) -> int:\n",
    "    \"\"\"\n",
    "    Parameters:\n",
    "    s (str): The input string.\n",
    "\n",
    "    Returns:\n",
    "    int: Hash value mod 101.\n",
    "    \"\"\"\n",
    "    hashval = 0\n",
    "    for char in s:\n",
    "        hashval = ord(char) + 31 * hashval\n",
    "    return hashval % 101"
   ]
  },
  {
   "cell_type": "markdown",
   "metadata": {},
   "source": [
    "### Testing the Hash Function\n",
    "\n",
    "Define a list of words to hash.  \n",
    "Call hash_function() on each word.  \n",
    "Print the results.  "
   ]
  },
  {
   "cell_type": "code",
   "execution_count": 7,
   "metadata": {},
   "outputs": [
    {
     "name": "stdout",
     "output_type": "stream",
     "text": [
      "Hash of 'john': 97\n",
      "Hash of 'smith': 19\n",
      "Hash of 'computational': 42\n",
      "Hash of 'theory': 77\n"
     ]
    }
   ],
   "source": [
    "# Testing the function\n",
    "test_strings = [\"john\", \"smith\", \"computational\", \"theory\"]\n",
    "for string in test_strings:\n",
    "    print(f\"Hash of '{string}': {hash_function(string)}\")"
   ]
  },
  {
   "cell_type": "markdown",
   "metadata": {},
   "source": [
    "**Why Use 31 and 101?**\n",
    "\n",
    "`31` is chosen because it's a prime number that provides efficient bitwise operations and balanced hash distribution. [Why does Java's `hashCode()` use 31 as a multiplier?](https://stackoverflow.com/questions/299304/why-does-javas-hashcode-in-string-use-31-as-a-multiplier)  \n",
    "`101` is used because it's a prime modulus that minimizes collisions for small datasets.  \n",
    "\n"
   ]
  },
  {
   "attachments": {},
   "cell_type": "markdown",
   "metadata": {},
   "source": [
    "## Task 3: SHA256\n",
    "\n",
    "In this step, we **read the input file** in **binary mode** and store its contents in a variable.  \n",
    "We also calculate the **original message length in bits** and initialize global variables.\n",
    "\n",
    "- The file is opened in **binary mode** (`rb`).\n",
    "- The data is read and stored in `data`.\n",
    "- The original message length is calculated in **bits**.\n",
    "- If the file is **missing**, an error message is shown."
   ]
  },
  {
   "cell_type": "code",
   "execution_count": 8,
   "metadata": {},
   "outputs": [
    {
     "name": "stdout",
     "output_type": "stream",
     "text": [
      "Step 1: File read successfully!\n"
     ]
    }
   ],
   "source": [
    "import os  # Importing OS for file handling\n",
    "\n",
    "# Define file path\n",
    "file_path = \"test.txt\"\n",
    "\n",
    "try:\n",
    "    with open(file_path, \"rb\") as f:\n",
    "        data = f.read()  # Read file contents as bytes\n",
    "except FileNotFoundError:\n",
    "    print(f\"Error: File '{file_path}' not found.\")\n",
    "    \n",
    "# Store variables globally so they can be used in later cells\n",
    "original_bit_length = len(data) * 8  \n",
    "\n",
    "print(\"Step 1: File read successfully!\")\n"
   ]
  },
  {
   "cell_type": "markdown",
   "metadata": {},
   "source": [
    "SHA-256 padding starts with **appending a single '1' bit** (`0x80` in hex).  \n",
    "This ensures that the message **always begins padding with `10000000`** in binary.\n",
    "\n",
    "- `b'\\x80'` is added to the `data`, creating the initial padded message.\n",
    "- This ensures padding starts with a `1` followed by zeros.\n",
    "\n",
    "SHA-256 is a **cryptographic hash function** that follows the [NIST Secure Hash Standard](https://nvlpubs.nist.gov/nistpubs/FIPS/NIST.FIPS.180-4.pdf), ensuring secure and efficient message integrity."
   ]
  },
  {
   "cell_type": "code",
   "execution_count": 9,
   "metadata": {},
   "outputs": [
    {
     "name": "stdout",
     "output_type": "stream",
     "text": [
      "Step 2: 1-bit appended.\n"
     ]
    }
   ],
   "source": [
    "# Append the '1' bit (0x80 in hex) to the message\n",
    "padded_data = data + b'\\x80'\n",
    "\n",
    "print(\"Step 2: 1-bit appended.\")"
   ]
  },
  {
   "cell_type": "markdown",
   "metadata": {},
   "source": [
    "After appending `0x80`, we **add zero padding** until the length of the message reaches **448 mod 512 bits**.\n",
    "\n",
    "- A `while` loop continuously appends **zero bytes (`0x00`)**.\n",
    "- It stops when the message length **mod 512** equals **448**.\n",
    "- This ensures that we have enough space for the final 64-bit length.\n",
    "\n",
    "This step follows the SHA-256 padding rules as described in [FIPS 180-4](https://nvlpubs.nist.gov/nistpubs/FIPS/NIST.FIPS.180-4.pdf)."
   ]
  },
  {
   "cell_type": "code",
   "execution_count": 10,
   "metadata": {},
   "outputs": [
    {
     "name": "stdout",
     "output_type": "stream",
     "text": [
      "Step 3: Padding with zeros done.\n"
     ]
    }
   ],
   "source": [
    "# Add zero bytes until the length is 448 mod 512\n",
    "while (len(padded_data) * 8) % 512 != 448:\n",
    "    padded_data += b'\\x00'  \n",
    "\n",
    "print(\"Step 3: Padding with zeros done.\")"
   ]
  },
  {
   "cell_type": "markdown",
   "metadata": {},
   "source": [
    "Finally, we **append the original message length** as a **64-bit big-endian integer**.  \n",
    "This tells the SHA-256 algorithm **how long the original message was** before padding.\n",
    "\n",
    "- We take the `original_bit_length` and **convert it to a 64-bit number**.\n",
    "- This number is stored in **big-endian format** (`to_bytes(8, 'big')`).\n",
    "- The final 8 bytes ensure that SHA-256 can correctly process the input."
   ]
  },
  {
   "cell_type": "code",
   "execution_count": 11,
   "metadata": {},
   "outputs": [
    {
     "name": "stdout",
     "output_type": "stream",
     "text": [
      "Step 4: Original length appended.\n"
     ]
    }
   ],
   "source": [
    "\n",
    "# Convert the original message length into an 8-byte (64-bit) big-endian integer\n",
    "\n",
    "padded_data += original_bit_length.to_bytes(8, 'big')  \n",
    "\n",
    "print(\"Step 4: Original length appended.\")"
   ]
  },
  {
   "cell_type": "markdown",
   "metadata": {},
   "source": [
    "Now that padding is complete, we **print the final message** in **hex format**.  \n",
    "This helps us verify that **padding has been applied correctly**.\n",
    "\n",
    "- We print each byte of the padded message in **hexadecimal format**.\n",
    "- This shows us exactly how the padded message is structured."
   ]
  },
  {
   "cell_type": "code",
   "execution_count": 12,
   "metadata": {},
   "outputs": [
    {
     "name": "stdout",
     "output_type": "stream",
     "text": [
      "SHA-256 Padding (Hex):\n",
      "80 00 00 00 00 00 00 00 00 00 00 00 00 00 00 00 00 00 00 00 00 00 00 00 00 00 00 00 00 00 00 00 00 00 00 00 00 00 00 00 00 00 00 00 00 00 00 00 00 00 00 00 00 00 00 00 00 00 00 00 00 00 00 00\n"
     ]
    }
   ],
   "source": [
    "\n",
    "# Print the final padded message in hexadecimal format\n",
    "print(\"SHA-256 Padding (Hex):\")\n",
    "print(\" \".join(f\"{byte:02x}\" for byte in padded_data))"
   ]
  },
  {
   "attachments": {},
   "cell_type": "markdown",
   "metadata": {},
   "source": [
    "## Task 4: Prime Numbers\n",
    "\n",
    "### Method 1: Trial Division (Brute Force)\n",
    "\n",
    "The **Trial Division method** is a simple way to find prime numbers by **checking divisibility**.\n",
    "\n",
    "- We start with **2**, the first prime number.\n",
    "- We check if each number **is divisible by any of the previous primes**.\n",
    "- If the number is **not divisible**, it is **added to the prime list**.\n",
    "\n",
    "- This method is **slow** for large values, as it has a **time complexity of \\(O(n^2)\\)**."
   ]
  },
  {
   "cell_type": "code",
   "execution_count": 13,
   "metadata": {},
   "outputs": [],
   "source": [
    "def trial_division_primes(n):\n",
    "    \"\"\"\n",
    "    Finds the first 'n' prime numbers using the Trial Division method.\n",
    "    \"\"\"\n",
    "    primes = []\n",
    "    num = 2  # Start from the smallest prime number\n",
    "\n",
    "    while len(primes) < n:\n",
    "        is_prime = True\n",
    "        for prime in primes:  \n",
    "            if num % prime == 0:\n",
    "                is_prime = False\n",
    "                break\n",
    "        if is_prime:\n",
    "            primes.append(num)\n",
    "        num += 1  \n",
    "\n",
    "    return primes"
   ]
  },
  {
   "cell_type": "markdown",
   "metadata": {},
   "source": [
    "Now, we **run the function** to generate the first **1,000 prime numbers**.\n",
    "\n",
    "- The function **iterates through numbers** and checks for primes.\n",
    "- The first **10 primes** are printed for verification."
   ]
  },
  {
   "cell_type": "code",
   "execution_count": 14,
   "metadata": {},
   "outputs": [
    {
     "name": "stdout",
     "output_type": "stream",
     "text": [
      "[2, 3, 5, 7, 11, 13, 17, 19, 23, 29]\n"
     ]
    }
   ],
   "source": [
    "trial_division_result = trial_division_primes(1000)\n",
    "\n",
    "print(trial_division_result[:10])"
   ]
  },
  {
   "cell_type": "markdown",
   "metadata": {},
   "source": [
    "**Advantages:**\n",
    "- **Simple and easy to understand**.\n",
    "- Works well for **small values**.\n",
    "\n",
    "**Disadvantages:**\n",
    "- **Very slow for large values** (quadratic time complexity).\n",
    "- Requires **checking divisibility for every number**."
   ]
  },
  {
   "cell_type": "markdown",
   "metadata": {},
   "source": [
    "### Method 2: Sieve of Eratosthenes (Efficient)\n",
    "\n",
    "The **Sieve of Eratosthenes** is a **faster** way to find primes by **marking non-primes in a list**.\n",
    "\n",
    "- We create a **boolean list** where **each index represents a number**.\n",
    "- We **start at 2** and **mark all multiples of each prime as non-prime**.\n",
    "- We continue until we have **collected 1,000 primes**.\n",
    "\n",
    "- It has a **time complexity of \\(O(n \\log \\log n)\\)**, making it **much faster** than Trial Division."
   ]
  },
  {
   "cell_type": "code",
   "execution_count": 15,
   "metadata": {},
   "outputs": [],
   "source": [
    "def sieve_of_eratosthenes(n):\n",
    "   \n",
    "    limit = 10 * n  # Estimate upper limit\n",
    "    sieve = [True] * limit  # True means \"assumed prime\"\n",
    "    sieve[0] = sieve[1] = False  # 0 and 1 are not primes\n",
    "\n",
    "    for i in range(2, int(limit**0.5) + 1):\n",
    "        if sieve[i]:  # If i is prime\n",
    "            for multiple in range(i * i, limit, i):\n",
    "                sieve[multiple] = False  # Mark multiples as non-prime\n",
    "\n",
    "    primes = [num for num, is_prime in enumerate(sieve) if is_prime][:n]\n",
    "    return primes"
   ]
  },
  {
   "cell_type": "markdown",
   "metadata": {},
   "source": [
    "Now, we **run the function** to generate the first **1,000 prime numbers**.\n",
    "\n",
    "- We run the **Sieve of Eratosthenes function**.\n",
    "- The first **10 primes** are printed for verification."
   ]
  },
  {
   "cell_type": "code",
   "execution_count": 16,
   "metadata": {},
   "outputs": [
    {
     "name": "stdout",
     "output_type": "stream",
     "text": [
      "[2, 3, 5, 7, 11, 13, 17, 19, 23, 29]\n"
     ]
    }
   ],
   "source": [
    "# Generate first 1000 primes using Sieve of Eratosthenes\n",
    "sieve_result = sieve_of_eratosthenes(1000)\n",
    "\n",
    "# Print first 10 primes for verification\n",
    "print(sieve_result[:10])"
   ]
  },
  {
   "cell_type": "markdown",
   "metadata": {},
   "source": [
    " **Advantages:**\n",
    "- **Much faster** than Trial Division.\n",
    "- Works well for **large values**.\n",
    "\n",
    " **Disadvantages:**\n",
    "- Requires **extra memory** to store the boolean array."
   ]
  },
  {
   "cell_type": "markdown",
   "metadata": {},
   "source": [
    "## Comparing Trial Division vs. Sieve of Eratosthenes\n",
    "\n",
    "| Algorithm               | Time Complexity      | Space Complexity | Best Used For |\n",
    "|-------------------------|---------------------|------------------|---------------|\n",
    "| Trial Division          | \\(O(n^2)\\)         | \\(O(1)\\)         | Small numbers |\n",
    "| Sieve of Eratosthenes   | \\(O(n \\log \\log n)\\) | \\(O(n)\\)         | Large numbers |\n",
    "\n",
    "\n",
    "- **Trial Division is simple but inefficient** for large values.\n",
    "- **Sieve of Eratosthenes is much faster** but requires more memory."
   ]
  },
  {
   "attachments": {},
   "cell_type": "markdown",
   "metadata": {},
   "source": [
    "## Task 5: Roots\n",
    "\n",
    "## Step 1: Compute the First 100 Prime Numbers\n",
    "\n",
    "Before calculating square roots, we need **100 prime numbers**.\n",
    "\n",
    "\n",
    "- We use the **Sieve of Eratosthenes** to generate **the first 100 prime numbers** efficiently.\n",
    "- This ensures we **don’t manually list** primes."
   ]
  },
  {
   "cell_type": "code",
   "execution_count": 17,
   "metadata": {},
   "outputs": [
    {
     "name": "stdout",
     "output_type": "stream",
     "text": [
      "[2, 3, 5, 7, 11, 13, 17, 19, 23, 29]\n"
     ]
    }
   ],
   "source": [
    "from math import sqrt\n",
    "\n",
    "def sieve_of_eratosthenes(n):\n",
    "    \"\"\"\n",
    "    Finds the first 'n' prime numbers using the Sieve of Eratosthenes.\n",
    "    \"\"\"\n",
    "    limit = 1000  # Estimate a safe upper limit\n",
    "    sieve = [True] * limit  # True means \"assumed prime\"\n",
    "    sieve[0] = sieve[1] = False  # 0 and 1 are not primes\n",
    "\n",
    "    for i in range(2, int(limit**0.5) + 1):\n",
    "        if sieve[i]:  # If i is prime\n",
    "            for multiple in range(i * i, limit, i):\n",
    "                sieve[multiple] = False  # Mark multiples as non-prime\n",
    "\n",
    "    primes = [num for num, is_prime in enumerate(sieve) if is_prime][:n]\n",
    "    return primes\n",
    "\n",
    "#  Generate first 100 prime numbers\n",
    "first_100_primes = sieve_of_eratosthenes(100)\n",
    "print(first_100_primes[:10])  # Print first 10 primes for verification\n"
   ]
  },
  {
   "cell_type": "markdown",
   "metadata": {},
   "source": [
    "## Step 2: Compute Square Roots & Extract Fractional Part\n",
    "\n",
    "- We calculate the **square root** of each prime.\n",
    "- We **isolate the fractional part** (everything after the decimal point).\n",
    "- This fractional part is then **converted to binary**."
   ]
  },
  {
   "cell_type": "code",
   "execution_count": 18,
   "metadata": {},
   "outputs": [
    {
     "name": "stdout",
     "output_type": "stream",
     "text": [
      "Example: sqrt(2) = 1.4142135623730951, Fractional Part = 0.41421356237309515\n"
     ]
    }
   ],
   "source": [
    "def get_fractional_part(number):\n",
    "    \"\"\"\n",
    "    Extracts the fractional part of a number.\n",
    "    \"\"\"\n",
    "    return number - int(number)  # Remove integer part\n",
    "\n",
    "# Example: Extract fractional part of sqrt(2)\n",
    "example_sqrt = sqrt(2)\n",
    "fractional_part = get_fractional_part(example_sqrt)\n",
    "print(f\"Example: sqrt(2) = {example_sqrt}, Fractional Part = {fractional_part}\")"
   ]
  },
  {
   "cell_type": "markdown",
   "metadata": {},
   "source": [
    "## Step 3: Convert Fractional Part to 32-bit Binary\n",
    "\n",
    "- We repeatedly **multiply the fractional part by 2**.\n",
    "- The **integer part of each multiplication** gives us **1s and 0s**.\n",
    "- We extract **32 bits** from this conversion."
   ]
  },
  {
   "cell_type": "code",
   "execution_count": 19,
   "metadata": {},
   "outputs": [
    {
     "name": "stdout",
     "output_type": "stream",
     "text": [
      "32-bit binary of sqrt(2) fractional part: 01101010000010011110011001100111\n"
     ]
    }
   ],
   "source": [
    "def fractional_to_binary(fraction, bits=32):\n",
    "    \"\"\"\n",
    "    Converts a fractional part to a 32-bit binary representation.\n",
    "    \"\"\"\n",
    "    binary_str = \"\"\n",
    "    for _ in range(bits):\n",
    "        fraction *= 2\n",
    "        if fraction >= 1:\n",
    "            binary_str += \"1\"\n",
    "            fraction -= 1\n",
    "        else:\n",
    "            binary_str += \"0\"\n",
    "    return binary_str\n",
    "\n",
    "binary_fractional_part = fractional_to_binary(fractional_part)\n",
    "print(f\"32-bit binary of sqrt(2) fractional part: {binary_fractional_part}\")"
   ]
  },
  {
   "cell_type": "markdown",
   "metadata": {},
   "source": [
    "## Step 4: Compute and Display Results for 100 Primes\n",
    "\n",
    "- For each **prime number**, compute its **square root**.\n",
    "- Extract the **fractional part** and convert it to **binary**.\n",
    "- Print the **first 10 results** for verification."
   ]
  },
  {
   "cell_type": "code",
   "execution_count": 20,
   "metadata": {},
   "outputs": [
    {
     "name": "stdout",
     "output_type": "stream",
     "text": [
      "Prime: 2, Binary (32 bits): 01101010000010011110011001100111\n",
      "Prime: 3, Binary (32 bits): 10111011011001111010111010000101\n",
      "Prime: 5, Binary (32 bits): 00111100011011101111001101110010\n",
      "Prime: 7, Binary (32 bits): 10100101010011111111010100111010\n",
      "Prime: 11, Binary (32 bits): 01010001000011100101001001111111\n",
      "Prime: 13, Binary (32 bits): 10011011000001010110100010001100\n",
      "Prime: 17, Binary (32 bits): 00011111100000111101100110101011\n",
      "Prime: 19, Binary (32 bits): 01011011111000001100110100011001\n",
      "Prime: 23, Binary (32 bits): 11001011101110111001110101011101\n",
      "Prime: 29, Binary (32 bits): 01100010100110100010100100101010\n"
     ]
    }
   ],
   "source": [
    "# Compute the first 32 bits of the fractional part of sqrt(primes)\n",
    "results = {}\n",
    "\n",
    "for prime in first_100_primes:\n",
    "    sqrt_value = sqrt(prime)  # Compute square root\n",
    "    fractional_part = get_fractional_part(sqrt_value)  # Extract fractional part\n",
    "    binary_representation = fractional_to_binary(fractional_part)  # Convert to binary\n",
    "    results[prime] = binary_representation\n",
    "\n",
    "# Print first 10 results\n",
    "for prime, binary in list(results.items())[:10]:\n",
    "    print(f\"Prime: {prime}, Binary (32 bits): {binary}\")"
   ]
  },
  {
   "attachments": {},
   "cell_type": "markdown",
   "metadata": {},
   "source": [
    "## Task 6: Proof of Work"
   ]
  },
  {
   "cell_type": "markdown",
   "metadata": {},
   "source": [
    "## Step 1: Load a Dictionary Word List\n",
    "\n",
    "We will use a **list of English words** to check their SHA-256 hashes.  \n",
    "The list can come from a local file like `/usr/share/dict/words` or a simple word list.\n",
    "\n",
    "This ensures that the words we test are **actually from a dictionary**."
   ]
  },
  {
   "cell_type": "code",
   "execution_count": 21,
   "metadata": {},
   "outputs": [],
   "source": [
    "try:\n",
    "    with open(\"/usr/share/dict/words\") as f:\n",
    "        words = [line.strip() for line in f if line.strip().isalpha()]\n",
    "except FileNotFoundError:\n",
    "    # Fallback list\n",
    "    words = [\"apple\", \"banana\", \"orange\", \"proof\", \"of\", \"work\", \"zero\", \"hash\", \"challenge\"]"
   ]
  },
  {
   "cell_type": "markdown",
   "metadata": {},
   "source": [
    "## Step 2: Compute SHA-256 Hash for Each Word\n",
    "\n",
    "For each word, we:\n",
    "1. Compute the **SHA-256 hash**.\n",
    "2. Convert the hash to **binary**.\n",
    "3. Count how many **0 bits are at the beginning**."
   ]
  },
  {
   "cell_type": "code",
   "execution_count": 22,
   "metadata": {},
   "outputs": [],
   "source": [
    "import hashlib\n",
    "\n",
    "def count_leading_zero_bits(hex_digest):\n",
    "    \"\"\"Convert hex digest to binary and count leading zero bits.\"\"\"\n",
    "    bin_digest = bin(int(hex_digest, 16))[2:].zfill(256) \n",
    "    return len(bin_digest) - len(bin_digest.lstrip(\"0\"))"
   ]
  },
  {
   "cell_type": "markdown",
   "metadata": {},
   "source": [
    "## Step 3: Find the Word(s) With the Most Leading 0 Bits\n",
    "\n",
    "We track the **maximum number of leading zero bits** and **store words** that match it."
   ]
  },
  {
   "cell_type": "code",
   "execution_count": 23,
   "metadata": {},
   "outputs": [
    {
     "name": "stdout",
     "output_type": "stream",
     "text": [
      "Max leading zeros: 8\n",
      "Word: work, Zeros: 8, SHA256: 00e13ed7af55b27622f1d6eab5bec0147e68efe28dc2b12461117afa1a5ed40e\n"
     ]
    }
   ],
   "source": [
    "max_zeros = 0\n",
    "best_words = []\n",
    "\n",
    "for word in words:\n",
    "    h = hashlib.sha256(word.encode()).hexdigest()\n",
    "    zeros = count_leading_zero_bits(h)\n",
    "\n",
    "    if zeros > max_zeros:\n",
    "        max_zeros = zeros\n",
    "        best_words = [(word, h, zeros)]\n",
    "    elif zeros == max_zeros:\n",
    "        best_words.append((word, h, zeros))\n",
    "\n",
    "# Print results\n",
    "print(f\"Max leading zeros: {max_zeros}\")\n",
    "for w, h, z in best_words:\n",
    "    print(f\"Word: {w}, Zeros: {z}, SHA256: {h}\")"
   ]
  },
  {
   "cell_type": "markdown",
   "metadata": {},
   "source": [
    "## Proving Word Validity\n",
    "\n",
    "To prove the word is **in a dictionary**, we simply show that:\n",
    "- It was found in `/usr/share/dict/words` or another known dictionary source.\n",
    "- Alternatively, we can verify it using online dictionary APIs or libraries like `PyEnchant`."
   ]
  },
  {
   "attachments": {},
   "cell_type": "markdown",
   "metadata": {},
   "source": [
    "## Task 7: Turing Machines"
   ]
  },
  {
   "cell_type": "code",
   "execution_count": null,
   "metadata": {},
   "outputs": [],
   "source": []
  },
  {
   "attachments": {},
   "cell_type": "markdown",
   "metadata": {},
   "source": [
    "## Task 8: Computational Complexity"
   ]
  },
  {
   "cell_type": "code",
   "execution_count": null,
   "metadata": {},
   "outputs": [],
   "source": []
  }
 ],
 "metadata": {
  "kernelspec": {
   "display_name": "base",
   "language": "python",
   "name": "python3"
  },
  "language_info": {
   "codemirror_mode": {
    "name": "ipython",
    "version": 3
   },
   "file_extension": ".py",
   "mimetype": "text/x-python",
   "name": "python",
   "nbconvert_exporter": "python",
   "pygments_lexer": "ipython3",
   "version": "3.11.5"
  },
  "orig_nbformat": 4
 },
 "nbformat": 4,
 "nbformat_minor": 2
}
