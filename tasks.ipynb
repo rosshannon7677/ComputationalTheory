{
 "cells": [
  {
   "attachments": {},
   "cell_type": "markdown",
   "metadata": {},
   "source": [
    "## Task 1: Binary Representations\n",
    "\n",
    "In Task 1 there will be 4 functions used to showcase how a **32-bit number** can be manipulated.\n",
    "These functions are mostly used in cryptography or low level programming which are all encryption methods."
   ]
  },
  {
   "cell_type": "markdown",
   "metadata": {},
   "source": [
    "\n",
    "### Rotating Bits Left (`rotl`)\n",
    "\n",
    "The `rotl(x, n)` function is used to shift all bits by a number to the left by **n** places.\n",
    "If a bit reaches the end of the 32 bit it wraps around and starts on the right side for it to continue.\n",
    "**0xFFFFFFFF** is used to make sure we stay within the 32 bit range.\n",
    "[Rotating bits of a number](https://www.geeksforgeeks.org/python3-program-to-rotate-bits-of-a-number/)."
   ]
  },
  {
   "cell_type": "code",
   "execution_count": 1,
   "metadata": {},
   "outputs": [],
   "source": [
    "def rotl(x, n=1):\n",
    "    \"\"\"\n",
    "    Rotates the bits in a 32-bit integer to the left by n places.\n",
    "    \"\"\"\n",
    "    n = n % 32  # Ensure n is within valid bit range (0-31)\n",
    "    return ((x << n) & 0xFFFFFFFF) | (x >> (32 - n))"
   ]
  },
  {
   "cell_type": "markdown",
   "metadata": {},
   "source": [
    "#### **Rotating Bits Right (`rotr`)**\n",
    "\n",
    "The `rotr(x, n)` function does the complete opposite to **rotl**.\n",
    "It shifts all bits by a number to the righy by **n** places.\n",
    "If a bit reaches the end of the 32 bit it wraps around and starts on the left side for it to continue.\n",
    "Mainly used in cryptography because of how fast it is and is a good way to secure data."
   ]
  },
  {
   "cell_type": "code",
   "execution_count": 2,
   "metadata": {},
   "outputs": [],
   "source": [
    "def rotr(x, n=1):\n",
    "    \"\"\"\n",
    "    Rotates the bits in a 32-bit integer to the right by n places.\n",
    "    \"\"\"\n",
    "    n = n % 32  # Ensure n is within valid bit range (0-31)\n",
    "    return (x >> n) | ((x << (32 - n)) & 0xFFFFFFFF)"
   ]
  },
  {
   "cell_type": "markdown",
   "metadata": {},
   "source": [
    "#### **Bitwise Choice (`ch`)**\n",
    "\n",
    "The `ch(x, y, z)` function uses x as a value and chooses between y and z.\n",
    "If the bit in x is 1 it takes from y otherwise it takes from z.\n",
    "This is used in SHA-256 hashing so it can decide to switch between values. "
   ]
  },
  {
   "cell_type": "code",
   "execution_count": 3,
   "metadata": {},
   "outputs": [],
   "source": [
    "def ch(x, y, z):\n",
    "    \"\"\"\n",
    "    Chooses bits from y where x has bits set to 1, and from z where x has bits set to 0.\n",
    "    Returns:\n",
    "    int: Resulting 32-bit integer after bitwise choice\n",
    "    \"\"\"\n",
    "    return (x & y) | (~x & z)  # If x bit is 1 -> choose from y, else from z\n"
   ]
  },
  {
   "cell_type": "markdown",
   "metadata": {},
   "source": [
    "#### **Bitwise Majority (`maj`)**\n",
    "\n",
    "The `maj(x, y, z)` function looks at x y and z and looks at each bit in them and then keeps the value that appears the most. \n",
    "The majority value is chosen if there a more than 1 chosen.\n",
    "Is used in secure hashing algorithms when decisions need to be made with multiple values."
   ]
  },
  {
   "cell_type": "code",
   "execution_count": 4,
   "metadata": {},
   "outputs": [],
   "source": [
    "def maj(x, y, z):\n",
    "    \"\"\"\n",
    "    Majority votes of bits in x, y, and z.\n",
    "\n",
    "    Parameters:\n",
    "    x (int): 32-bit integer\n",
    "    y (int): 32-bit integer\n",
    "    z (int): 32-bit integer\n",
    "\n",
    "    Returns:\n",
    "    int: Resulting 32-bit integer after bitwise majority\n",
    "    \"\"\"\n",
    "    return (x & y) | (x & z) | (y & z)  # A bit is 1 if at least two of x, y, z have 1s"
   ]
  },
  {
   "cell_type": "markdown",
   "metadata": {},
   "source": [
    "### Testing the Bitwise Functions\n",
    "\n",
    "To show the functions being tested we define 3 **32-bit integers**\n",
    "\n",
    "We use 3 **binary numbers** as inputs:\n",
    "- `x = 0b10110011100011110000111100001111` → A randomly chosen **32-bit integer**.\n",
    "- `y = 0b11001100110011001100110011001100` → A pattern of alternating bits.\n",
    "- `z = 0b00001111000011110000111100001111` → High and low bit sequences.\n",
    "\n",
    "These values showcase to us that the functions correctly handle the bits at different positions."
   ]
  },
  {
   "cell_type": "code",
   "execution_count": 5,
   "metadata": {},
   "outputs": [
    {
     "name": "stdout",
     "output_type": "stream",
     "text": [
      "Original x: 0b10110011100011110000111100001111\n",
      "rotl(x, 4): 0b111000111100001111000011111011\n",
      "rotr(x, 4): 0b11111011001110001111000011110000\n",
      "ch(x, y, z): 0b10001100100011000000110000001100\n",
      "maj(x, y, z): 0b10001111100011110000111100001111\n"
     ]
    }
   ],
   "source": [
    "# Define 32-bit example values for testing\n",
    "x = 0b10110011100011110000111100001111  # Example 32-bit integer\n",
    "y = 0b11001100110011001100110011001100\n",
    "z = 0b00001111000011110000111100001111\n",
    "\n",
    "# Testing the functions\n",
    "if __name__ == \"__main__\":\n",
    "    print(f\"Original x: {bin(x)}\")\n",
    "    print(f\"rotl(x, 4): {bin(rotl(x, 4))}\")\n",
    "    print(f\"rotr(x, 4): {bin(rotr(x, 4))}\")\n",
    "    print(f\"ch(x, y, z): {bin(ch(x, y, z))}\")\n",
    "    print(f\"maj(x, y, z): {bin(maj(x, y, z))}\")"
   ]
  },
  {
   "attachments": {},
   "cell_type": "markdown",
   "metadata": {},
   "source": [
    "## Task 2: Hash Functions\n",
    "\n",
    "In Task 2 we covert a string which in this instance is '(s)' into a numeric hash value.\n",
    "Starts at `hashval = 0` which is the first value and then loops through each character.\n",
    "The running total is then multiplied by 31 and adds the ASCII value of the character.\n",
    "The result returned is stored in modulo 101. "
   ]
  },
  {
   "cell_type": "code",
   "execution_count": 6,
   "metadata": {},
   "outputs": [],
   "source": [
    "def hash_function(s: str) -> int:\n",
    "    \"\"\"\n",
    "    Parameters:\n",
    "    s (str): The input string.\n",
    "\n",
    "    Returns:\n",
    "    int: Hash value mod 101.\n",
    "    \"\"\"\n",
    "    hashval = 0\n",
    "    for char in s:\n",
    "        hashval = ord(char) + 31 * hashval\n",
    "    return hashval % 101"
   ]
  },
  {
   "cell_type": "markdown",
   "metadata": {},
   "source": [
    "### Testing the Hash Function\n",
    "\n",
    "A list of words is used to check the output variety.\n",
    "hash_function() is used on each word.\n",
    "Results printed out."
   ]
  },
  {
   "cell_type": "code",
   "execution_count": 7,
   "metadata": {},
   "outputs": [
    {
     "name": "stdout",
     "output_type": "stream",
     "text": [
      "Hash of 'john': 97\n",
      "Hash of 'smith': 19\n",
      "Hash of 'computational': 42\n",
      "Hash of 'theory': 77\n"
     ]
    }
   ],
   "source": [
    "# Testing the function\n",
    "test_strings = [\"john\", \"smith\", \"computational\", \"theory\"]\n",
    "for string in test_strings:\n",
    "    print(f\"Hash of '{string}': {hash_function(string)}\")"
   ]
  },
  {
   "cell_type": "markdown",
   "metadata": {},
   "source": [
    "**Why Use 31 and 101?**\n",
    "\n",
    "`31` is a prime number which is used alot in hashing as it spreads values and gives efficient bitwise operations. \n",
    "[Why does Java's `hashCode()` use 31 as a multiplier?](https://stackoverflow.com/questions/299304/why-does-javas-hashcode-in-string-use-31-as-a-multiplier) \n",
    "`101` is a prime number which is used as the modulo in this instance as it reduces the result and minimizes collisions in a small space. "
   ]
  },
  {
   "attachments": {},
   "cell_type": "markdown",
   "metadata": {},
   "source": [
    "## Task 3: SHA256\n",
    "\n",
    "In Task 3 we read the input file in binary mode so we can get the raw bytes which are stored in a variable.\n",
    "The original message length is also stored in bits.\n",
    "\n",
    "- The file is opened in **binary mode** (`rb`).\n",
    "- The data is read and stored in `data`.\n",
    "- The original message length is calculated in **bits**."
   ]
  },
  {
   "cell_type": "code",
   "execution_count": 8,
   "metadata": {},
   "outputs": [
    {
     "name": "stdout",
     "output_type": "stream",
     "text": [
      "Step 1: File read successfully!\n"
     ]
    }
   ],
   "source": [
    "import os  # Importing OS for file handling\n",
    "\n",
    "# Define file path\n",
    "file_path = \"test.txt\"\n",
    "\n",
    "try:\n",
    "    with open(file_path, \"rb\") as f:\n",
    "        data = f.read()  # Read file contents as bytes\n",
    "except FileNotFoundError:\n",
    "    print(f\"Error: File '{file_path}' not found.\")\n",
    "    \n",
    "# Store variables globally so they can be used in later cells\n",
    "original_bit_length = len(data) * 8  \n",
    "\n",
    "print(\"Step 1: File read successfully!\")\n"
   ]
  },
  {
   "cell_type": "markdown",
   "metadata": {},
   "source": [
    "SHA-256 padding is done by adding a single '1' bit after the message.\n",
    "By doing this we ensure the message is beginning padding with a `10000000`** in binary.\n",
    "\n",
    "- `b'\\x80'` is added to the data which creates the padded message.\n",
    "- This ensures padding starts with a `1` followed by zeros.\n",
    "\n",
    "SHA-256 is a **cryptographic hash function** that follows the [NIST Secure Hash Standard](https://nvlpubs.nist.gov/nistpubs/FIPS/NIST.FIPS.180-4.pdf), ensuring secure and efficient message integrity."
   ]
  },
  {
   "cell_type": "code",
   "execution_count": 9,
   "metadata": {},
   "outputs": [
    {
     "name": "stdout",
     "output_type": "stream",
     "text": [
      "Step 2: 1-bit appended.\n"
     ]
    }
   ],
   "source": [
    "# Append the '1' bit (0x80 in hex) to the message\n",
    "padded_data = data + b'\\x80'\n",
    "\n",
    "print(\"Step 2: 1-bit appended.\")"
   ]
  },
  {
   "cell_type": "markdown",
   "metadata": {},
   "source": [
    "We then add zero bytes until the length of the message is **448 mod 512 bits**.\n",
    "\n",
    "- A `while` loop continuously appends **zero bytes (`0x00`)**.\n",
    "- It stops when the message length **mod 512** equals **448**.\n",
    "- This makes sure that there is enough space for the final 64-bit length.\n",
    "\n",
    "This step follows the SHA-256 padding rules as described in [FIPS 180-4](https://nvlpubs.nist.gov/nistpubs/FIPS/NIST.FIPS.180-4.pdf)."
   ]
  },
  {
   "cell_type": "code",
   "execution_count": 10,
   "metadata": {},
   "outputs": [
    {
     "name": "stdout",
     "output_type": "stream",
     "text": [
      "Step 3: Padding with zeros done.\n"
     ]
    }
   ],
   "source": [
    "# Add zero bytes until the length is 448 mod 512\n",
    "while (len(padded_data) * 8) % 512 != 448:\n",
    "    padded_data += b'\\x00'  \n",
    "\n",
    "print(\"Step 3: Padding with zeros done.\")"
   ]
  },
  {
   "cell_type": "markdown",
   "metadata": {},
   "source": [
    "The original message length is then updated as a **64-bit big-endian integer**.  \n",
    "The SHA-256 algorithm now knows how long the original message was before padding.\n",
    "\n",
    "- We take the `original_bit_length` and **convert it to a 64-bit number**.\n",
    "- This number is stored in **big-endian format** (`to_bytes(8, 'big')`).\n",
    "- SHA-256 is then processed by the final 8 bytes to make sure it is correctly processed."
   ]
  },
  {
   "cell_type": "code",
   "execution_count": 11,
   "metadata": {},
   "outputs": [
    {
     "name": "stdout",
     "output_type": "stream",
     "text": [
      "Step 4: Original length appended.\n"
     ]
    }
   ],
   "source": [
    "# Convert the original message length into an 8-byte (64-bit) big-endian integer\n",
    "padded_data += original_bit_length.to_bytes(8, 'big')  \n",
    "\n",
    "print(\"Step 4: Original length appended.\")"
   ]
  },
  {
   "cell_type": "markdown",
   "metadata": {},
   "source": [
    "The final message is then printed in **hex format**.\n",
    "This shows that the padding is applied correctly.\n",
    "\n",
    "- We print each byte of the padded message in **hexadecimal format**."
   ]
  },
  {
   "cell_type": "code",
   "execution_count": 12,
   "metadata": {},
   "outputs": [
    {
     "name": "stdout",
     "output_type": "stream",
     "text": [
      "SHA-256 Padding (Hex):\n",
      "80 00 00 00 00 00 00 00 00 00 00 00 00 00 00 00 00 00 00 00 00 00 00 00 00 00 00 00 00 00 00 00 00 00 00 00 00 00 00 00 00 00 00 00 00 00 00 00 00 00 00 00 00 00 00 00 00 00 00 00 00 00 00 00\n"
     ]
    }
   ],
   "source": [
    "# Print the final padded message in hexadecimal format\n",
    "print(\"SHA-256 Padding (Hex):\")\n",
    "print(\" \".join(f\"{byte:02x}\" for byte in padded_data))"
   ]
  },
  {
   "attachments": {},
   "cell_type": "markdown",
   "metadata": {},
   "source": [
    "## Task 4: Prime Numbers\n",
    "\n",
    "### Method 1: Trial Division (Brute Force)\n",
    "\n",
    "**Trial Division method** checks each number to try and find out if that number is a prime number.\n",
    "\n",
    "- Starting with **2** as it is the first prime number.\n",
    "- Each number is checked to see if it is divisible by any of the previous primes.\n",
    "- If the number is not divisible evenly it is then added to the list.\n",
    "\n",
    "- This is brute force which is slow for large values as it has a **time complexity of \\(O(n^2)\\)**."
   ]
  },
  {
   "cell_type": "code",
   "execution_count": 13,
   "metadata": {},
   "outputs": [],
   "source": [
    "def trial_division_primes(n):\n",
    "    \"\"\"\n",
    "    Finds the first 'n' prime numbers using the Trial Division method.\n",
    "    \"\"\"\n",
    "    primes = []\n",
    "    num = 2  # Start from the smallest prime number\n",
    "\n",
    "    while len(primes) < n:\n",
    "        is_prime = True\n",
    "        for prime in primes:  \n",
    "            if num % prime == 0:\n",
    "                is_prime = False\n",
    "                break\n",
    "        if is_prime:\n",
    "            primes.append(num)\n",
    "        num += 1  \n",
    "\n",
    "    return primes"
   ]
  },
  {
   "cell_type": "markdown",
   "metadata": {},
   "source": [
    "We now run the function which generates the first **1,000 prime numbers**.\n",
    "\n",
    "- The function goes through each number and checks for primes.\n",
    "- The first 10 primes found are then printed for verification."
   ]
  },
  {
   "cell_type": "code",
   "execution_count": 14,
   "metadata": {},
   "outputs": [
    {
     "name": "stdout",
     "output_type": "stream",
     "text": [
      "[2, 3, 5, 7, 11, 13, 17, 19, 23, 29]\n"
     ]
    }
   ],
   "source": [
    "trial_division_result = trial_division_primes(1000)\n",
    "\n",
    "print(trial_division_result[:10])"
   ]
  },
  {
   "cell_type": "markdown",
   "metadata": {},
   "source": [
    "**Advantages:**\n",
    "- Simple and easy to understand.\n",
    "- Works well with small values.\n",
    "\n",
    "**Disadvantages:**\n",
    "- Very slow for working with large values.\n",
    "- Requires checking divisibility for every number."
   ]
  },
  {
   "cell_type": "markdown",
   "metadata": {},
   "source": [
    "### Method 2: Sieve of Eratosthenes (Efficient)\n",
    "\n",
    "**Sieve of Eratosthenes method** is a faster way of finding primes as its main goal is to mark non-primes in a list.\n",
    "\n",
    "- A boolean list is created where each index represents a number.\n",
    "- Starting 2 and mark all multiples of each prime as non-prime.\n",
    "- This is done until we have collected 1,000 primes.\n",
    "\n",
    "- It has a **time complexity of \\(O(n \\log \\log n)\\)** which makes it much faster* than Trial Division."
   ]
  },
  {
   "cell_type": "code",
   "execution_count": 15,
   "metadata": {},
   "outputs": [],
   "source": [
    "def sieve_of_eratosthenes(n):\n",
    "   \n",
    "    limit = 10 * n  # Estimate upper limit\n",
    "    sieve = [True] * limit  # True means \"assumed prime\"\n",
    "    sieve[0] = sieve[1] = False  # 0 and 1 are not primes\n",
    "\n",
    "    for i in range(2, int(limit**0.5) + 1):\n",
    "        if sieve[i]:  # If i is prime\n",
    "            for multiple in range(i * i, limit, i):\n",
    "                sieve[multiple] = False  # Mark multiples as non-prime\n",
    "\n",
    "    primes = [num for num, is_prime in enumerate(sieve) if is_prime][:n]\n",
    "    return primes"
   ]
  },
  {
   "cell_type": "markdown",
   "metadata": {},
   "source": [
    "We not run the function to generate the first 1,000 prime numbers.\n",
    "\n",
    "- We run the Sieve of Eratosthenes function.\n",
    "- The first 10 primes are printed for verification."
   ]
  },
  {
   "cell_type": "code",
   "execution_count": 16,
   "metadata": {},
   "outputs": [
    {
     "name": "stdout",
     "output_type": "stream",
     "text": [
      "[2, 3, 5, 7, 11, 13, 17, 19, 23, 29]\n"
     ]
    }
   ],
   "source": [
    "# Generate first 1000 primes using Sieve of Eratosthenes\n",
    "sieve_result = sieve_of_eratosthenes(1000)\n",
    "\n",
    "# Print first 10 primes for verification\n",
    "print(sieve_result[:10])"
   ]
  },
  {
   "cell_type": "markdown",
   "metadata": {},
   "source": [
    " **Advantages:**\n",
    "- A lot faster than Trial Division.\n",
    "- Large values work well.\n",
    "\n",
    " **Disadvantages:**\n",
    "- Requires extra memory to store the boolean array."
   ]
  },
  {
   "cell_type": "markdown",
   "metadata": {},
   "source": [
    "## Trial Division vs. Sieve of Eratosthenes\n",
    "\n",
    "| Algorithm               | Time Complexity      | Space Complexity | Best Used For |\n",
    "|-------------------------|---------------------|------------------|---------------|\n",
    "| Trial Division          | \\(O(n^2)\\)         | \\(O(1)\\)         | Small numbers |\n",
    "| Sieve of Eratosthenes   | \\(O(n \\log \\log n)\\) | \\(O(n)\\)         | Large numbers |\n",
    "\n",
    "\n",
    "- **Trial Division** is more simple but not as effective for large values.\n",
    "- **Sieve of Eratosthenes** is a lot  faster but does require extra memory."
   ]
  },
  {
   "attachments": {},
   "cell_type": "markdown",
   "metadata": {},
   "source": [
    "## Task 5: Roots\n",
    "\n",
    "## Compute the first 100 prime numbers\n",
    "\n",
    "There needs to be 100 prime numbers before we start to calculate square roots.\n",
    "\n",
    "- **Sieve of Eratosthenes** is used to generate the first 100 prime numbers as it is the most efficient method.\n",
    "- By doing this we make sure we don’t manually list primes."
   ]
  },
  {
   "cell_type": "code",
   "execution_count": 17,
   "metadata": {},
   "outputs": [
    {
     "name": "stdout",
     "output_type": "stream",
     "text": [
      "[2, 3, 5, 7, 11, 13, 17, 19, 23, 29]\n"
     ]
    }
   ],
   "source": [
    "from math import sqrt\n",
    "\n",
    "def sieve_of_eratosthenes(n):\n",
    "    \"\"\"\n",
    "    Finds the first 'n' prime numbers using the Sieve of Eratosthenes.\n",
    "    \"\"\"\n",
    "    limit = 1000  # Estimate a safe upper limit\n",
    "    sieve = [True] * limit  # True means \"assumed prime\"\n",
    "    sieve[0] = sieve[1] = False  # 0 and 1 are not primes\n",
    "\n",
    "    for i in range(2, int(limit**0.5) + 1):\n",
    "        if sieve[i]:  # If i is prime\n",
    "            for multiple in range(i * i, limit, i):\n",
    "                sieve[multiple] = False  # Mark multiples as non-prime\n",
    "\n",
    "    primes = [num for num, is_prime in enumerate(sieve) if is_prime][:n]\n",
    "    return primes\n",
    "\n",
    "#  Generate first 100 prime numbers\n",
    "first_100_primes = sieve_of_eratosthenes(100)\n",
    "print(first_100_primes[:10])  # Print first 10 primes for verification\n"
   ]
  },
  {
   "cell_type": "markdown",
   "metadata": {},
   "source": [
    "## Compute square roots & extract fractional part\n",
    "\n",
    "- We calculate the square root of each prime.\n",
    "- We isolate the fractional part.\n",
    "- The fractional part is then converted to binary."
   ]
  },
  {
   "cell_type": "code",
   "execution_count": 18,
   "metadata": {},
   "outputs": [
    {
     "name": "stdout",
     "output_type": "stream",
     "text": [
      "Example: sqrt(2) = 1.4142135623730951, Fractional Part = 0.41421356237309515\n"
     ]
    }
   ],
   "source": [
    "def get_fractional_part(number):\n",
    "    \"\"\"\n",
    "    Extracts the fractional part of a number.\n",
    "    \"\"\"\n",
    "    return number - int(number)  # Remove integer part\n",
    "\n",
    "# Example: Extract fractional part of sqrt(2)\n",
    "example_sqrt = sqrt(2)\n",
    "fractional_part = get_fractional_part(example_sqrt)\n",
    "print(f\"Example: sqrt(2) = {example_sqrt}, Fractional Part = {fractional_part}\")"
   ]
  },
  {
   "cell_type": "markdown",
   "metadata": {},
   "source": [
    "## Converting the fractional part to 32-bit binary\n",
    "\n",
    "- We multiply the fractional part by 2 repeatedly.\n",
    "- The integer part of each multiplication then gives us 1s and 0s.\n",
    "- We extract 32 bits from this conversion."
   ]
  },
  {
   "cell_type": "code",
   "execution_count": 19,
   "metadata": {},
   "outputs": [
    {
     "name": "stdout",
     "output_type": "stream",
     "text": [
      "32-bit binary of sqrt(2) fractional part: 01101010000010011110011001100111\n"
     ]
    }
   ],
   "source": [
    "def fractional_to_binary(fraction, bits=32):\n",
    "    \"\"\"\n",
    "    Converts a fractional part to a 32-bit binary representation.\n",
    "    \"\"\"\n",
    "    binary_str = \"\"\n",
    "    for _ in range(bits):\n",
    "        fraction *= 2\n",
    "        if fraction >= 1:\n",
    "            binary_str += \"1\"\n",
    "            fraction -= 1\n",
    "        else:\n",
    "            binary_str += \"0\"\n",
    "    return binary_str\n",
    "\n",
    "binary_fractional_part = fractional_to_binary(fractional_part)\n",
    "print(f\"32-bit binary of sqrt(2) fractional part: {binary_fractional_part}\")"
   ]
  },
  {
   "cell_type": "markdown",
   "metadata": {},
   "source": [
    "## Computing and displaying results for the first 100 Primes\n",
    "\n",
    "- For each prime number we must compute the square root.\n",
    "- Extract the fractional then convert it to binary.\n",
    "- The print out the first 10 results for verification."
   ]
  },
  {
   "cell_type": "code",
   "execution_count": 20,
   "metadata": {},
   "outputs": [
    {
     "name": "stdout",
     "output_type": "stream",
     "text": [
      "Prime: 2, Binary (32 bits): 01101010000010011110011001100111\n",
      "Prime: 3, Binary (32 bits): 10111011011001111010111010000101\n",
      "Prime: 5, Binary (32 bits): 00111100011011101111001101110010\n",
      "Prime: 7, Binary (32 bits): 10100101010011111111010100111010\n",
      "Prime: 11, Binary (32 bits): 01010001000011100101001001111111\n",
      "Prime: 13, Binary (32 bits): 10011011000001010110100010001100\n",
      "Prime: 17, Binary (32 bits): 00011111100000111101100110101011\n",
      "Prime: 19, Binary (32 bits): 01011011111000001100110100011001\n",
      "Prime: 23, Binary (32 bits): 11001011101110111001110101011101\n",
      "Prime: 29, Binary (32 bits): 01100010100110100010100100101010\n"
     ]
    }
   ],
   "source": [
    "# Compute the first 32 bits of the fractional part of sqrt(primes)\n",
    "results = {}\n",
    "\n",
    "for prime in first_100_primes:\n",
    "    sqrt_value = sqrt(prime)  # Compute square root\n",
    "    fractional_part = get_fractional_part(sqrt_value)  # Extract fractional part\n",
    "    binary_representation = fractional_to_binary(fractional_part)  # Convert to binary\n",
    "    results[prime] = binary_representation\n",
    "\n",
    "# Print first 10 results\n",
    "for prime, binary in list(results.items())[:10]:\n",
    "    print(f\"Prime: {prime}, Binary (32 bits): {binary}\")"
   ]
  },
  {
   "attachments": {},
   "cell_type": "markdown",
   "metadata": {},
   "source": [
    "## Task 6: Proof of Work"
   ]
  },
  {
   "cell_type": "markdown",
   "metadata": {},
   "source": [
    "## Load a Dictionary Word List\n",
    "\n",
    "In this task we will use a list of English words which can be gathered in /usr/share/dict/words which is a local file or use the fallback method which is a word list.\n",
    "By doing this we ensure that the words we use are from a dictionary."
   ]
  },
  {
   "cell_type": "code",
   "execution_count": 21,
   "metadata": {},
   "outputs": [],
   "source": [
    "try:\n",
    "    with open(\"/usr/share/dict/words\") as f:\n",
    "        words = [line.strip() for line in f if line.strip().isalpha()]\n",
    "except FileNotFoundError:\n",
    "    # Fallback list\n",
    "    words = [\"apple\", \"banana\", \"orange\", \"proof\", \"of\", \"work\", \"zero\", \"hash\", \"challenge\"]"
   ]
  },
  {
   "cell_type": "markdown",
   "metadata": {},
   "source": [
    "## For each word we compute a SHA-256 Hash. \n",
    "\n",
    "For each word we:\n",
    "1. Have compute the SHA-256 hash.\n",
    "2. Convert the hash to binary.\n",
    "3. At the beginning we count how many 0 bits there are"
   ]
  },
  {
   "cell_type": "code",
   "execution_count": 22,
   "metadata": {},
   "outputs": [],
   "source": [
    "import hashlib\n",
    "\n",
    "def count_leading_zero_bits(hex_digest):\n",
    "    \"\"\"Convert hex digest to binary and count leading zero bits.\"\"\"\n",
    "    bin_digest = bin(int(hex_digest, 16))[2:].zfill(256) \n",
    "    return len(bin_digest) - len(bin_digest.lstrip(\"0\"))"
   ]
  },
  {
   "cell_type": "markdown",
   "metadata": {},
   "source": [
    "## Find the Word or words with the most leading 0 bits\n",
    "\n",
    "To do this we have to track the maximum number of leading zeros and then we have to store the words that match it."
   ]
  },
  {
   "cell_type": "code",
   "execution_count": 23,
   "metadata": {},
   "outputs": [
    {
     "name": "stdout",
     "output_type": "stream",
     "text": [
      "Max leading zeros: 8\n",
      "Word: work, Zeros: 8, SHA256: 00e13ed7af55b27622f1d6eab5bec0147e68efe28dc2b12461117afa1a5ed40e\n"
     ]
    }
   ],
   "source": [
    "max_zeros = 0\n",
    "best_words = []\n",
    "\n",
    "for word in words:\n",
    "    h = hashlib.sha256(word.encode()).hexdigest()\n",
    "    zeros = count_leading_zero_bits(h)\n",
    "\n",
    "    if zeros > max_zeros:\n",
    "        max_zeros = zeros\n",
    "        best_words = [(word, h, zeros)]\n",
    "    elif zeros == max_zeros:\n",
    "        best_words.append((word, h, zeros))\n",
    "\n",
    "# Print results\n",
    "print(f\"Max leading zeros: {max_zeros}\")\n",
    "for w, h, z in best_words:\n",
    "    print(f\"Word: {w}, Zeros: {z}, SHA256: {h}\")"
   ]
  },
  {
   "cell_type": "markdown",
   "metadata": {},
   "source": [
    "## Checking for Word Validity\n",
    "\n",
    "We now have to make sure the word that was found is an English word. \n",
    "We do this by:\n",
    "\n",
    "- By using /usr/share/dict/words to see if it exits.\n",
    "- Use PyEnchant to check.\n",
    "- Or using a dictionary API."
   ]
  },
  {
   "attachments": {},
   "cell_type": "markdown",
   "metadata": {},
   "source": [
    "## Task 7: Turing Machines"
   ]
  },
  {
   "cell_type": "markdown",
   "metadata": {},
   "source": [
    "## Turing Machine \n",
    "\n",
    "In this task we created a simple Turing Machine which adds 1 to a binary number.\n",
    "\n",
    "This is done by:\n",
    "\n",
    "- Binary number is written on a tape (e.g. 100111)\n",
    "- The bit that is most to the right is the least significant bit (LSB)\n",
    "- The turning machine then does carry logic which is like how binary addition works manually.\n",
    "\n",
    "- 1 is only written when it sees a 0.\n",
    "- If a 1 is seen then it writes a 0 and moves left to carry on.\n",
    "- If there is a blank reached which is at the start it then write a 1 at the front."
   ]
  },
  {
   "cell_type": "markdown",
   "metadata": {},
   "source": [
    "## State Transition Table\n",
    "\n",
    "| Current State | Read Symbol | Write Symbol | Move | Next State |\n",
    "|---------------|-------------|--------------|------|------------|\n",
    "| `q0`          | `1`         | `0`          | L    | `q0`       |\n",
    "| `q0`          | `0`         | `1`          | R    | `HALT`     |\n",
    "| `q0`          | `B`         | `1`          | R    | `HALT`     |\n",
    "\n",
    "**Explanation**:\n",
    "- The main state is q0 which is where the machine does the carry logic\n",
    "q0 = main carry-propagation state\n",
    "- When there is a 1 read it then writes 0 and moves on to the left\n",
    "- If there is a 0 seen then the carry is ended and a 1 is then written and it stops\n",
    "- When the machine sees a blank which is a (B) that means the number was at 1 so it then writes a new 1 at the start"
   ]
  },
  {
   "cell_type": "code",
   "execution_count": 24,
   "metadata": {},
   "outputs": [
    {
     "name": "stdout",
     "output_type": "stream",
     "text": [
      "Input:  100111\n",
      "Output: 101000\n"
     ]
    }
   ],
   "source": [
    "def turing_add_one(tape_input):\n",
    "    # Convert input string to list (tape), and add blank symbol at the beginning\n",
    "    tape = ['B'] + list(tape_input)\n",
    "    head = len(tape) - 1  # Start at right-most symbol (LSB)\n",
    "    state = 'q0'\n",
    "\n",
    "    while state != 'HALT':\n",
    "        symbol = tape[head]\n",
    "\n",
    "        if state == 'q0':\n",
    "            if symbol == '1':\n",
    "                tape[head] = '0'\n",
    "                head -= 1\n",
    "            elif symbol == '0':\n",
    "                tape[head] = '1'\n",
    "                state = 'HALT'\n",
    "            elif symbol == 'B':\n",
    "                tape[head] = '1'\n",
    "                state = 'HALT'\n",
    "\n",
    "    # Remove leading blank if not needed\n",
    "    result = ''.join(tape).lstrip('B')\n",
    "    return result\n",
    "\n",
    "# Test case\n",
    "input_tape = '100111'\n",
    "output_tape = turing_add_one(input_tape)\n",
    "\n",
    "print(f\"Input:  {input_tape}\")\n",
    "print(f\"Output: {output_tape}\")"
   ]
  },
  {
   "attachments": {},
   "cell_type": "markdown",
   "metadata": {},
   "source": [
    "## Task 8: Computational Complexity\n",
    "\n",
    "### Bubble Sort with Comparison Counting\n",
    "Created a function that does a normal bubble sort and after every time it compares 2 elements it then counts that comparison."
   ]
  },
  {
   "cell_type": "code",
   "execution_count": 25,
   "metadata": {},
   "outputs": [],
   "source": [
    "def bubble_sort_with_count(arr):\n",
    "    \"\"\"\n",
    "    Sorts the list using Bubble Sort and counts the comparisons made.\n",
    "    \"\"\"\n",
    "    n = len(arr)\n",
    "    count = 0\n",
    "    a = arr.copy()  # To avoid changing the original permutation\n",
    "    for i in range(n):\n",
    "        for j in range(0, n - i - 1):\n",
    "            count += 1  # Each comparison is counted\n",
    "            if a[j] > a[j + 1]:\n",
    "                a[j], a[j + 1] = a[j + 1], a[j]\n",
    "    return count"
   ]
  },
  {
   "cell_type": "markdown",
   "metadata": {},
   "source": [
    "### Generate All Permutations\n",
    "\n",
    "Created all 120 permutations of [1, 2, 3, 4, 5] using Python's itertools.permutations.\n",
    "Used the bubble sort function for every permutation and displayed the outcome."
   ]
  },
  {
   "cell_type": "code",
   "execution_count": 27,
   "metadata": {},
   "outputs": [
    {
     "name": "stdout",
     "output_type": "stream",
     "text": [
      "Permutation: (1, 2, 3, 4, 5), Comparisons: 10\n",
      "Permutation: (1, 2, 3, 5, 4), Comparisons: 10\n",
      "Permutation: (1, 2, 4, 3, 5), Comparisons: 10\n",
      "Permutation: (1, 2, 4, 5, 3), Comparisons: 10\n",
      "Permutation: (1, 2, 5, 3, 4), Comparisons: 10\n",
      "Permutation: (1, 2, 5, 4, 3), Comparisons: 10\n",
      "Permutation: (1, 3, 2, 4, 5), Comparisons: 10\n",
      "Permutation: (1, 3, 2, 5, 4), Comparisons: 10\n",
      "Permutation: (1, 3, 4, 2, 5), Comparisons: 10\n",
      "Permutation: (1, 3, 4, 5, 2), Comparisons: 10\n",
      "Permutation: (1, 3, 5, 2, 4), Comparisons: 10\n",
      "Permutation: (1, 3, 5, 4, 2), Comparisons: 10\n",
      "Permutation: (1, 4, 2, 3, 5), Comparisons: 10\n",
      "Permutation: (1, 4, 2, 5, 3), Comparisons: 10\n",
      "Permutation: (1, 4, 3, 2, 5), Comparisons: 10\n",
      "Permutation: (1, 4, 3, 5, 2), Comparisons: 10\n",
      "Permutation: (1, 4, 5, 2, 3), Comparisons: 10\n",
      "Permutation: (1, 4, 5, 3, 2), Comparisons: 10\n",
      "Permutation: (1, 5, 2, 3, 4), Comparisons: 10\n",
      "Permutation: (1, 5, 2, 4, 3), Comparisons: 10\n",
      "Permutation: (1, 5, 3, 2, 4), Comparisons: 10\n",
      "Permutation: (1, 5, 3, 4, 2), Comparisons: 10\n",
      "Permutation: (1, 5, 4, 2, 3), Comparisons: 10\n",
      "Permutation: (1, 5, 4, 3, 2), Comparisons: 10\n",
      "Permutation: (2, 1, 3, 4, 5), Comparisons: 10\n",
      "Permutation: (2, 1, 3, 5, 4), Comparisons: 10\n",
      "Permutation: (2, 1, 4, 3, 5), Comparisons: 10\n",
      "Permutation: (2, 1, 4, 5, 3), Comparisons: 10\n",
      "Permutation: (2, 1, 5, 3, 4), Comparisons: 10\n",
      "Permutation: (2, 1, 5, 4, 3), Comparisons: 10\n",
      "Permutation: (2, 3, 1, 4, 5), Comparisons: 10\n",
      "Permutation: (2, 3, 1, 5, 4), Comparisons: 10\n",
      "Permutation: (2, 3, 4, 1, 5), Comparisons: 10\n",
      "Permutation: (2, 3, 4, 5, 1), Comparisons: 10\n",
      "Permutation: (2, 3, 5, 1, 4), Comparisons: 10\n",
      "Permutation: (2, 3, 5, 4, 1), Comparisons: 10\n",
      "Permutation: (2, 4, 1, 3, 5), Comparisons: 10\n",
      "Permutation: (2, 4, 1, 5, 3), Comparisons: 10\n",
      "Permutation: (2, 4, 3, 1, 5), Comparisons: 10\n",
      "Permutation: (2, 4, 3, 5, 1), Comparisons: 10\n",
      "Permutation: (2, 4, 5, 1, 3), Comparisons: 10\n",
      "Permutation: (2, 4, 5, 3, 1), Comparisons: 10\n",
      "Permutation: (2, 5, 1, 3, 4), Comparisons: 10\n",
      "Permutation: (2, 5, 1, 4, 3), Comparisons: 10\n",
      "Permutation: (2, 5, 3, 1, 4), Comparisons: 10\n",
      "Permutation: (2, 5, 3, 4, 1), Comparisons: 10\n",
      "Permutation: (2, 5, 4, 1, 3), Comparisons: 10\n",
      "Permutation: (2, 5, 4, 3, 1), Comparisons: 10\n",
      "Permutation: (3, 1, 2, 4, 5), Comparisons: 10\n",
      "Permutation: (3, 1, 2, 5, 4), Comparisons: 10\n",
      "Permutation: (3, 1, 4, 2, 5), Comparisons: 10\n",
      "Permutation: (3, 1, 4, 5, 2), Comparisons: 10\n",
      "Permutation: (3, 1, 5, 2, 4), Comparisons: 10\n",
      "Permutation: (3, 1, 5, 4, 2), Comparisons: 10\n",
      "Permutation: (3, 2, 1, 4, 5), Comparisons: 10\n",
      "Permutation: (3, 2, 1, 5, 4), Comparisons: 10\n",
      "Permutation: (3, 2, 4, 1, 5), Comparisons: 10\n",
      "Permutation: (3, 2, 4, 5, 1), Comparisons: 10\n",
      "Permutation: (3, 2, 5, 1, 4), Comparisons: 10\n",
      "Permutation: (3, 2, 5, 4, 1), Comparisons: 10\n",
      "Permutation: (3, 4, 1, 2, 5), Comparisons: 10\n",
      "Permutation: (3, 4, 1, 5, 2), Comparisons: 10\n",
      "Permutation: (3, 4, 2, 1, 5), Comparisons: 10\n",
      "Permutation: (3, 4, 2, 5, 1), Comparisons: 10\n",
      "Permutation: (3, 4, 5, 1, 2), Comparisons: 10\n",
      "Permutation: (3, 4, 5, 2, 1), Comparisons: 10\n",
      "Permutation: (3, 5, 1, 2, 4), Comparisons: 10\n",
      "Permutation: (3, 5, 1, 4, 2), Comparisons: 10\n",
      "Permutation: (3, 5, 2, 1, 4), Comparisons: 10\n",
      "Permutation: (3, 5, 2, 4, 1), Comparisons: 10\n",
      "Permutation: (3, 5, 4, 1, 2), Comparisons: 10\n",
      "Permutation: (3, 5, 4, 2, 1), Comparisons: 10\n",
      "Permutation: (4, 1, 2, 3, 5), Comparisons: 10\n",
      "Permutation: (4, 1, 2, 5, 3), Comparisons: 10\n",
      "Permutation: (4, 1, 3, 2, 5), Comparisons: 10\n",
      "Permutation: (4, 1, 3, 5, 2), Comparisons: 10\n",
      "Permutation: (4, 1, 5, 2, 3), Comparisons: 10\n",
      "Permutation: (4, 1, 5, 3, 2), Comparisons: 10\n",
      "Permutation: (4, 2, 1, 3, 5), Comparisons: 10\n",
      "Permutation: (4, 2, 1, 5, 3), Comparisons: 10\n",
      "Permutation: (4, 2, 3, 1, 5), Comparisons: 10\n",
      "Permutation: (4, 2, 3, 5, 1), Comparisons: 10\n",
      "Permutation: (4, 2, 5, 1, 3), Comparisons: 10\n",
      "Permutation: (4, 2, 5, 3, 1), Comparisons: 10\n",
      "Permutation: (4, 3, 1, 2, 5), Comparisons: 10\n",
      "Permutation: (4, 3, 1, 5, 2), Comparisons: 10\n",
      "Permutation: (4, 3, 2, 1, 5), Comparisons: 10\n",
      "Permutation: (4, 3, 2, 5, 1), Comparisons: 10\n",
      "Permutation: (4, 3, 5, 1, 2), Comparisons: 10\n",
      "Permutation: (4, 3, 5, 2, 1), Comparisons: 10\n",
      "Permutation: (4, 5, 1, 2, 3), Comparisons: 10\n",
      "Permutation: (4, 5, 1, 3, 2), Comparisons: 10\n",
      "Permutation: (4, 5, 2, 1, 3), Comparisons: 10\n",
      "Permutation: (4, 5, 2, 3, 1), Comparisons: 10\n",
      "Permutation: (4, 5, 3, 1, 2), Comparisons: 10\n",
      "Permutation: (4, 5, 3, 2, 1), Comparisons: 10\n",
      "Permutation: (5, 1, 2, 3, 4), Comparisons: 10\n",
      "Permutation: (5, 1, 2, 4, 3), Comparisons: 10\n",
      "Permutation: (5, 1, 3, 2, 4), Comparisons: 10\n",
      "Permutation: (5, 1, 3, 4, 2), Comparisons: 10\n",
      "Permutation: (5, 1, 4, 2, 3), Comparisons: 10\n",
      "Permutation: (5, 1, 4, 3, 2), Comparisons: 10\n",
      "Permutation: (5, 2, 1, 3, 4), Comparisons: 10\n",
      "Permutation: (5, 2, 1, 4, 3), Comparisons: 10\n",
      "Permutation: (5, 2, 3, 1, 4), Comparisons: 10\n",
      "Permutation: (5, 2, 3, 4, 1), Comparisons: 10\n",
      "Permutation: (5, 2, 4, 1, 3), Comparisons: 10\n",
      "Permutation: (5, 2, 4, 3, 1), Comparisons: 10\n",
      "Permutation: (5, 3, 1, 2, 4), Comparisons: 10\n",
      "Permutation: (5, 3, 1, 4, 2), Comparisons: 10\n",
      "Permutation: (5, 3, 2, 1, 4), Comparisons: 10\n",
      "Permutation: (5, 3, 2, 4, 1), Comparisons: 10\n",
      "Permutation: (5, 3, 4, 1, 2), Comparisons: 10\n",
      "Permutation: (5, 3, 4, 2, 1), Comparisons: 10\n",
      "Permutation: (5, 4, 1, 2, 3), Comparisons: 10\n",
      "Permutation: (5, 4, 1, 3, 2), Comparisons: 10\n",
      "Permutation: (5, 4, 2, 1, 3), Comparisons: 10\n",
      "Permutation: (5, 4, 2, 3, 1), Comparisons: 10\n",
      "Permutation: (5, 4, 3, 1, 2), Comparisons: 10\n",
      "Permutation: (5, 4, 3, 2, 1), Comparisons: 10\n"
     ]
    }
   ],
   "source": [
    "from itertools import permutations\n",
    "\n",
    "L = [1, 2, 3, 4, 5]\n",
    "all_perms = list(permutations(L))\n",
    "\n",
    "for perm in all_perms:\n",
    "    comparison_count = bubble_sort_with_count(list(perm))\n",
    "    print(f\"Permutation: {perm}, Comparisons: {comparison_count}\")"
   ]
  }
 ],
 "metadata": {
  "kernelspec": {
   "display_name": "base",
   "language": "python",
   "name": "python3"
  },
  "language_info": {
   "codemirror_mode": {
    "name": "ipython",
    "version": 3
   },
   "file_extension": ".py",
   "mimetype": "text/x-python",
   "name": "python",
   "nbconvert_exporter": "python",
   "pygments_lexer": "ipython3",
   "version": "3.11.5"
  },
  "orig_nbformat": 4
 },
 "nbformat": 4,
 "nbformat_minor": 2
}
