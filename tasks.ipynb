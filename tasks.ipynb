{
 "cells": [
  {
   "attachments": {},
   "cell_type": "markdown",
   "metadata": {},
   "source": [
    "## Task 1: Binary Representations\n",
    "\n",
    "In Task 1 there will be 4 functions used to showcase how a **32-bit number** can be manipulated.\n",
    "These functions are mostly used in cryptography or low level programming which are all encryption methods."
   ]
  },
  {
   "cell_type": "markdown",
   "metadata": {},
   "source": [
    "\n",
    "### Rotating Bits Left (`rotl`)\n",
    "\n",
    "The `rotl(x, n)` function is used to shift all bits by a number to the left by **n** places.\n",
    "If a bit reaches the end of the 32 bit it wraps around and starts on the right side for it to continue.\n",
    "**0xFFFFFFFF** is used to make sure we stay within the 32 bit range. This is important as cryptographic algorithms such as SHA-256 work on 32-bit word blocks.\n",
    "[Rotating bits of a number](https://www.geeksforgeeks.org/python3-program-to-rotate-bits-of-a-number/)."
   ]
  },
  {
   "cell_type": "code",
   "execution_count": 1,
   "metadata": {},
   "outputs": [],
   "source": [
    "def rotl(x, n=1):\n",
    "    \"\"\"\n",
    "    Rotates the bits in a 32-bit integer to the left by n places.\n",
    "    \n",
    "    Parameters:\n",
    "    x : The input 32-bit integer.\n",
    "    n : Number of positions to rotate left.\n",
    "\n",
    "    Returns:\n",
    "    int: The result after performing the left rotation.\n",
    "    \"\"\"\n",
    "    n = n % 32                     # Ensure n is within the valid bit range (0–31)\n",
    "    shifted = (x << n) & 0xFFFFFFFF  # Left shift and mask to 32-bit\n",
    "    wrapped = x >> (32 - n)       # Get bits that will wrap around\n",
    "    return shifted | wrapped      # Combine the shifted and wrapped bits"
   ]
  },
  {
   "cell_type": "markdown",
   "metadata": {},
   "source": [
    "#### **Rotating Bits Right (`rotr`)**\n",
    "\n",
    "The `rotr(x, n)` function does the complete opposite to **rotl**.\n",
    "It shifts all bits by a number to the righy by **n** places.\n",
    "If a bit reaches the end of the 32 bit it wraps around and starts on the left side for it to continue.\n",
    "Mainly used in cryptography because of how fast it is and is a good way to secure data."
   ]
  },
  {
   "cell_type": "code",
   "execution_count": 2,
   "metadata": {},
   "outputs": [],
   "source": [
    "def rotr(x, n=1):\n",
    "    \"\"\"\n",
    "    Rotates the bits in a 32-bit integer to the right by n places.\n",
    "    \n",
    "    Parameters:\n",
    "    x : The input 32-bit integer.\n",
    "    n : Number of positions to rotate right.\n",
    "\n",
    "    Returns:\n",
    "    int: The result after performing the right rotation.\n",
    "    \"\"\"\n",
    "    n = n % 32\n",
    "    shifted = x >> n\n",
    "    wrapped = (x << (32 - n)) & 0xFFFFFFFF\n",
    "    return shifted | wrapped"
   ]
  },
  {
   "cell_type": "markdown",
   "metadata": {},
   "source": [
    "#### **Bitwise Choice (`ch`)**\n",
    "\n",
    "The `ch(x, y, z)` function uses x as a value and chooses between y and z.\n",
    "If the bit in x is 1 it takes from y otherwise it takes from z.\n",
    "This is used in SHA-256 hashing so it can decide to switch between values. "
   ]
  },
  {
   "cell_type": "code",
   "execution_count": 3,
   "metadata": {},
   "outputs": [],
   "source": [
    "def ch(x, y, z):\n",
    "    \"\"\"\n",
    "    Chooses bits from y where x has bits set to 1, and from z where x has bits set to 0.\n",
    "    Returns:\n",
    "    int: Resulting 32-bit integer after bitwise choice\n",
    "    \"\"\"\n",
    "    return (x & y) | (~x & z)  # If x bit is 1 -> choose from y, else from z"
   ]
  },
  {
   "cell_type": "markdown",
   "metadata": {},
   "source": [
    "#### **Bitwise Majority (`maj`)**\n",
    "\n",
    "The `maj(x, y, z)` function looks at x y and z and looks at each bit in them and then keeps the value that appears the most. \n",
    "The majority value is chosen if there a more than 1 chosen.\n",
    "Is used in secure hashing algorithms when decisions need to be made with multiple values."
   ]
  },
  {
   "cell_type": "code",
   "execution_count": 4,
   "metadata": {},
   "outputs": [],
   "source": [
    "def maj(x, y, z):\n",
    "    \"\"\"\n",
    "    Majority votes of bits in x, y, and z.\n",
    "\n",
    "    Parameters:\n",
    "    x (int): 32-bit integer\n",
    "    y (int): 32-bit integer\n",
    "    z (int): 32-bit integer\n",
    "\n",
    "    Returns:\n",
    "    int: Resulting 32-bit integer after bitwise majority\n",
    "    \"\"\"\n",
    "    return (x & y) | (x & z) | (y & z)  # A bit is 1 if at least two of x, y, z have 1s"
   ]
  },
  {
   "cell_type": "markdown",
   "metadata": {},
   "source": [
    "## Why These Functions Matter\n",
    "\n",
    "These operations help achieve diffusion, confusion and avalanche effects which are very important for cryptographics main strengths.  \n",
    "\n",
    "The functions `ch` and `maj` are specifically designed for use in cryptographic hash functions like SHA-256. For more details on their purpose and implementation, see [this explanation on Cryptography Stack Exchange](https://crypto.stackexchange.com/questions/5358/what-does-maj-and-ch-mean-in-sha-256-algorithm)."
   ]
  },
  {
   "cell_type": "markdown",
   "metadata": {},
   "source": [
    "### Testing the Bitwise Functions\n",
    "\n",
    "To show the functions being tested we define 3 **32-bit integers**\n",
    "\n",
    "We use 3 **binary numbers** as inputs:\n",
    "- `x = 0b10110011100011110000111100001111` → A randomly chosen **32-bit integer**.\n",
    "- `y = 0b11001100110011001100110011001100` → A pattern of alternating bits.\n",
    "- `z = 0b00001111000011110000111100001111` → High and low bit sequences.\n",
    "\n",
    "These values showcase to us that the functions correctly handle the bits at different positions."
   ]
  },
  {
   "cell_type": "code",
   "execution_count": 5,
   "metadata": {},
   "outputs": [
    {
     "name": "stdout",
     "output_type": "stream",
     "text": [
      "Original x: 0b10110011100011110000111100001111\n",
      "rotl(x, 4): 0b111000111100001111000011111011\n",
      "rotr(x, 4): 0b11111011001110001111000011110000\n",
      "ch(x, y, z): 0b10001100100011000000110000001100\n",
      "maj(x, y, z): 0b10001111100011110000111100001111\n"
     ]
    }
   ],
   "source": [
    "# Define 32-bit example values for testing\n",
    "x = 0b10110011100011110000111100001111  # 32-bit integer\n",
    "y = 0b11001100110011001100110011001100\n",
    "z = 0b00001111000011110000111100001111\n",
    "\n",
    "# Testing the functions\n",
    "if __name__ == \"__main__\":\n",
    "    print(f\"Original x: {bin(x)}\")\n",
    "    print(f\"rotl(x, 4): {bin(rotl(x, 4))}\")\n",
    "    print(f\"rotr(x, 4): {bin(rotr(x, 4))}\")\n",
    "    print(f\"ch(x, y, z): {bin(ch(x, y, z))}\")\n",
    "    print(f\"maj(x, y, z): {bin(maj(x, y, z))}\")"
   ]
  },
  {
   "cell_type": "markdown",
   "metadata": {},
   "source": [
    "## Task 2: Hash Function\n",
    "\n",
    "### Applications and Properties of Hash Functions\n",
    "\n",
    "Hash functions are fundamental to many computer science applications:\n",
    "\n",
    "- **Cryptography**: Secure hashes like SHA-256 protect passwords and digital signatures. \n",
    "- **Caching**: Web browsers and content delivery networks use hashes to identify cached content. \n",
    "- **Data Retrieval**: Hash tables provide O(1) lookup time for dictionaries and databases. \n",
    "- **Data Integrity**: File checksums ensure data hasn't been corrupted or tampered with.\n",
    "\n",
    "In this function the hash task demonstrates these concepts at a very basic level, showing how even a simple maths operation can distribute values across a fixed range. As seen in [The Art of Computer Programming, Volume 3: Sorting and Searching](https://www-cs-faculty.stanford.edu/~knuth/taocp.html), \"the choice of hash function has a significant impact on performance in practice, with multiplicative methods often providing good distribution properties.\""
   ]
  },
  {
   "attachments": {},
   "cell_type": "markdown",
   "metadata": {},
   "source": [
    "In Task 2 we covert a string which in this instance is `(s)` into a numeric `hash` value.  \n",
    "Starts at `hashval = 0` which is the first value and then loops through each character.  \n",
    "The running total is then multiplied by 31 and adds the `ASCII` value of the character.   \n",
    "The result returned is stored in modulo 101.   "
   ]
  },
  {
   "cell_type": "markdown",
   "metadata": {},
   "source": [
    "### What is a Hash Function\n",
    "\n",
    "A hash function is a function that uses input data and to transform it into a fixed size numerical output which is commonly known as a hash.   This maps inputs which are simliar to different outputs and is fast and very efficent.  \n",
    "\n",
    "The implementation here is based on converting a C-style hash function to Python, as discussed in [this tutorial on migrating from C to Python](https://almarefa.net/blog/tutorial-migrating-from-c-to-python)."
   ]
  },
  {
   "cell_type": "code",
   "execution_count": 6,
   "metadata": {},
   "outputs": [],
   "source": [
    "def hash_function(s: str) -> int:\n",
    "    \"\"\"\n",
    "    Parameters:\n",
    "    s (str): The input string.\n",
    "\n",
    "    Returns:\n",
    "    int: Hash value mod 101.\n",
    "    \"\"\"\n",
    "    hashval = 0\n",
    "    for char in s:\n",
    "        hashval = ord(char) + 31 * hashval\n",
    "    return hashval % 101"
   ]
  },
  {
   "cell_type": "markdown",
   "metadata": {},
   "source": [
    "### Testing the Hash Function\n",
    "\n",
    "A list of words is used to check the output variety.  \n",
    "`hash_function()` is used on each word.  \n",
    "Results printed out."
   ]
  },
  {
   "cell_type": "code",
   "execution_count": 7,
   "metadata": {},
   "outputs": [
    {
     "name": "stdout",
     "output_type": "stream",
     "text": [
      "Hash of 'john': 97\n",
      "Hash of 'smith': 19\n",
      "Hash of 'computational': 42\n",
      "Hash of 'theory': 77\n"
     ]
    }
   ],
   "source": [
    "# Testing the function\n",
    "test_strings = [\"john\", \"smith\", \"computational\", \"theory\"]\n",
    "for string in test_strings:\n",
    "    print(f\"Hash of '{string}': {hash_function(string)}\")"
   ]
  },
  {
   "cell_type": "markdown",
   "metadata": {},
   "source": [
    "**Why Use 31 and 101?**\n",
    "\n",
    "`31` is a prime number which is used alot in hashing as it spreads values and gives efficient bitwise operations. \n",
    "[Why does Java's `hashCode()` use 31 as a multiplier?](https://stackoverflow.com/questions/299304/why-does-javas-hashcode-in-string-use-31-as-a-multiplier) \n",
    "`101` is a prime number which is used as the modulo in this instance as it reduces the result and minimizes collisions in a small space. "
   ]
  },
  {
   "cell_type": "markdown",
   "metadata": {},
   "source": [
    "## How It Works\n",
    "### Let’s walk through \"john\":\n",
    "\n",
    "| Step | Character | ASCII | Hash Calculation                  | Running Total |\n",
    "|------|-----------|--------|-----------------------------------|----------------|\n",
    "| 1    | 'j'       | 106    | 106 + 31 × 0                      | 106            |\n",
    "| 2    | 'o'       | 111    | 111 + 31 × 106 = 111 + 3286       | 3397           |\n",
    "| 3    | 'h'       | 104    | 104 + 31 × 3397 = 104 + 105307    | 105411         |\n",
    "| 4    | 'n'       | 110    | 110 + 31 × 105411 = 110 + 3267741 | 3267851        |\n",
    "| —    | —         | —      | 3267851 % 101                     | **97**         |"
   ]
  },
  {
   "attachments": {},
   "cell_type": "markdown",
   "metadata": {},
   "source": [
    "## Task 3: SHA256\n",
    "\n",
    "In Task 3 we read the input file in binary mode so we can get the raw bytes which are stored in a variable.\n",
    "The original message length is also stored in bits.\n",
    "\n",
    "- The file is opened in **binary mode** (`rb`).\n",
    "- The data is read and stored in `data`.\n",
    "- The original message length is calculated in **bits**."
   ]
  },
  {
   "cell_type": "markdown",
   "metadata": {},
   "source": [
    "## What Is SHA-256 Padding?\n",
    "SHA-256 padding makes sure that the message fits the block size following these rules:\n",
    "\n",
    "Append a single `1` bit.\n",
    "\n",
    "Append `0` bits until the total length is 448 mod 512.\n",
    "\n",
    "Append the original message length in `64-bit` big-endian format.\n",
    "\n",
    "Total padded message length must be a multiple of `512 bits`."
   ]
  },
  {
   "cell_type": "code",
   "execution_count": 8,
   "metadata": {},
   "outputs": [
    {
     "name": "stdout",
     "output_type": "stream",
     "text": [
      "Step 1: File read successfully!\n"
     ]
    }
   ],
   "source": [
    "import os  # Importing OS for file handling\n",
    "\n",
    "# Define file path\n",
    "file_path = \"test.txt\"\n",
    "\n",
    "try:\n",
    "    with open(file_path, \"rb\") as f:\n",
    "        data = f.read()  # Read file contents as bytes\n",
    "except FileNotFoundError:\n",
    "    print(f\"Error: File '{file_path}' not found.\")\n",
    "    \n",
    "# Store variables globally so they can be used in later cells\n",
    "original_bit_length = len(data) * 8  \n",
    "\n",
    "print(\"Step 1: File read successfully!\")\n"
   ]
  },
  {
   "cell_type": "markdown",
   "metadata": {},
   "source": [
    "SHA-256 padding is done by adding a single '1' bit after the message.\n",
    "By doing this we ensure the message is beginning padding with a `10000000`** in binary.\n",
    "\n",
    "- `b'\\x80'` is added to the data which creates the padded message.\n",
    "- This ensures padding starts with a `1` followed by zeros.\n",
    "\n",
    "SHA-256 is a **cryptographic hash function** that follows the [NIST Secure Hash Standard](https://nvlpubs.nist.gov/nistpubs/FIPS/NIST.FIPS.180-4.pdf), ensuring secure and efficient message integrity."
   ]
  },
  {
   "cell_type": "code",
   "execution_count": 9,
   "metadata": {},
   "outputs": [
    {
     "name": "stdout",
     "output_type": "stream",
     "text": [
      "Step 2: 1-bit appended.\n"
     ]
    }
   ],
   "source": [
    "# Append the '1' bit (0x80 in hex) to the message\n",
    "padded_data = data + b'\\x80'\n",
    "\n",
    "print(\"Step 2: 1-bit appended.\")"
   ]
  },
  {
   "cell_type": "markdown",
   "metadata": {},
   "source": [
    "We then add zero bytes until the length of the message is **448 mod 512 bits**.\n",
    "\n",
    "- A `while` loop continuously appends **zero bytes (`0x00`)**.\n",
    "- It stops when the message length **mod 512** equals **448**.\n",
    "- This makes sure that there is enough space for the final 64-bit length.\n",
    "\n",
    "This step follows the SHA-256 padding rules as described in [FIPS 180-4](https://nvlpubs.nist.gov/nistpubs/FIPS/NIST.FIPS.180-4.pdf)."
   ]
  },
  {
   "cell_type": "code",
   "execution_count": 10,
   "metadata": {},
   "outputs": [
    {
     "name": "stdout",
     "output_type": "stream",
     "text": [
      "Step 3: Padding with zeros done.\n"
     ]
    }
   ],
   "source": [
    "# Add zero bytes until the length is 448 mod 512\n",
    "while (len(padded_data) * 8) % 512 != 448:\n",
    "    padded_data += b'\\x00'  \n",
    "\n",
    "print(\"Step 3: Padding with zeros done.\")"
   ]
  },
  {
   "cell_type": "markdown",
   "metadata": {},
   "source": [
    "The original message length is then updated as a **64-bit big-endian integer**.  \n",
    "The SHA-256 algorithm now knows how long the original message was before padding.\n",
    "\n",
    "- We take the `original_bit_length` and **convert it to a 64-bit number**.\n",
    "- This number is stored in **big-endian format** (`to_bytes(8, 'big')`).\n",
    "- SHA-256 is then processed by the final 8 bytes to make sure it is correctly processed."
   ]
  },
  {
   "cell_type": "code",
   "execution_count": 11,
   "metadata": {},
   "outputs": [
    {
     "name": "stdout",
     "output_type": "stream",
     "text": [
      "Step 4: Original length appended.\n"
     ]
    }
   ],
   "source": [
    "# Convert the original message length into an 8-byte (64-bit) big-endian integer\n",
    "padded_data += original_bit_length.to_bytes(8, 'big')  \n",
    "\n",
    "print(\"Step 4: Original length appended.\")"
   ]
  },
  {
   "cell_type": "markdown",
   "metadata": {},
   "source": [
    "The final message is then printed in **hex format**.\n",
    "This shows that the padding is applied correctly.\n",
    "\n",
    "- We print each byte of the padded message in **hexadecimal format**."
   ]
  },
  {
   "cell_type": "code",
   "execution_count": 12,
   "metadata": {},
   "outputs": [
    {
     "name": "stdout",
     "output_type": "stream",
     "text": [
      "SHA-256 Padding (Hex):\n",
      "61 62 63 80 00 00 00 00 00 00 00 00 00 00 00 00 00 00 00 00 00 00 00 00 00 00 00 00 00 00 00 00 00 00 00 00 00 00 00 00 00 00 00 00 00 00 00 00 00 00 00 00 00 00 00 00 00 00 00 00 00 00 00 18\n"
     ]
    }
   ],
   "source": [
    "# Print the final padded message in hexadecimal format\n",
    "print(\"SHA-256 Padding (Hex):\")\n",
    "print(\" \".join(f\"{byte:02x}\" for byte in padded_data))"
   ]
  },
  {
   "cell_type": "markdown",
   "metadata": {},
   "source": [
    "## Task 4: Prime Numbers\n",
    "\n",
    "### The Importance of Prime Numbers in Computing\n",
    "\n",
    "Prime numbers serve as fundamental building blocks in numerous computing applications:\n",
    "\n",
    "- **Cryptography**: RSA encryption is dependent on the difficulty of factoring large prime numbers\n",
    "- **Random Number Generation**: Prime numbers assist in the production of high quality random sequences\n",
    "- **Hash Functions**: ALot of hash algorithms use prime numbers as multipliers\n",
    "- **Error Correction**: Prime based code help find and recover from transmission faults\n",
    "\n",
    "The algorithms implemented show two fundamental approaches to prime generation:\n",
    "- **Trial Division**: Straightforward and intuitive, but computationally costly\n",
    "- **Sieve of Eratosthenes**: More complex conceptually, but more efficient\n",
    "\n",
    "These algorithms illustrate a common trade off in computer science between simplicity and performance, with the mostcomplex approach providing more benefits for larger datasets. As noted in [Introduction to Algorithms](https://mitpress.mit.edu/books/introduction-algorithms-third-edition), \"the sieve of Eratosthenes is a practical way to find all small primes.\""
   ]
  },
  {
   "attachments": {},
   "cell_type": "markdown",
   "metadata": {},
   "source": [
    "### Method 1: Trial Division (Brute Force)\n",
    "\n",
    "**Trial Division method** checks each number to try and find out if that number is a prime number.\n",
    "\n",
    "- Starting with **2** as it is the first prime number.\n",
    "- Each number is checked to see if it is divisible by any of the previous primes.\n",
    "- If the number is not divisible evenly it is then added to the list.\n",
    "\n",
    "- This is brute force which is slow for large values as it has a **time complexity of \\(O(n^2)\\)**.\n",
    "\n",
    "According to [PrimePages](https://primes.utm.edu/glossary/page.php?sort=TrialDivision), trial division is actually the oldest primality test, but its time complexity of O(n²) makes it impractical for large prime sets."
   ]
  },
  {
   "cell_type": "code",
   "execution_count": 13,
   "metadata": {},
   "outputs": [],
   "source": [
    "def trial_division_primes(n):\n",
    "    \"\"\"\n",
    "    Finds the first 'n' prime numbers using the Trial Division method.\n",
    "    \"\"\"\n",
    "    primes = []\n",
    "    num = 2  # Start from the smallest prime number\n",
    "\n",
    "    while len(primes) < n:\n",
    "        is_prime = True\n",
    "        for prime in primes:  \n",
    "            if num % prime == 0:\n",
    "                is_prime = False\n",
    "                break\n",
    "        if is_prime:\n",
    "            primes.append(num)\n",
    "        num += 1  \n",
    "\n",
    "    return primes"
   ]
  },
  {
   "cell_type": "markdown",
   "metadata": {},
   "source": [
    "We now run the function which generates the first **1,000 prime numbers**.\n",
    "\n",
    "- The function goes through each number and checks for primes.\n",
    "- The first `10` primes found are then printed for verification."
   ]
  },
  {
   "cell_type": "code",
   "execution_count": 14,
   "metadata": {},
   "outputs": [
    {
     "name": "stdout",
     "output_type": "stream",
     "text": [
      "[2, 3, 5, 7, 11, 13, 17, 19, 23, 29]\n"
     ]
    }
   ],
   "source": [
    "trial_division_result = trial_division_primes(1000)\n",
    "\n",
    "print(trial_division_result[:10])"
   ]
  },
  {
   "cell_type": "markdown",
   "metadata": {},
   "source": [
    "**Advantages:**\n",
    "- Simple and easy to understand.\n",
    "- Works well with small values.\n",
    "\n",
    "**Disadvantages:**\n",
    "- Very slow for working with large values.\n",
    "- Requires checking divisibility for every number."
   ]
  },
  {
   "cell_type": "markdown",
   "metadata": {},
   "source": [
    "### Method 2: Sieve of Eratosthenes (Efficient)\n",
    "\n",
    "**Sieve of Eratosthenes method** is a faster way of finding primes as its main goal is to mark non-primes in a list.\n",
    "\n",
    "- A boolean list is created where each index represents a number.\n",
    "- Starting 2 and mark all multiples of each prime as non-prime.\n",
    "- This is done until we have collected 1,000 primes.\n",
    "\n",
    "- It has a **time complexity of \\(O(n \\log \\log n)\\)** which makes it much faster* than Trial Division.  \n",
    "\n",
    "The implementation follows the algorithm described in [GeeksforGeeks' explanation of the Sieve of Eratosthenes](https://www.geeksforgeeks.org/sieve-of-eratosthenes/), which efficiently generates prime numbers by systematically eliminating multiples."
   ]
  },
  {
   "cell_type": "code",
   "execution_count": 15,
   "metadata": {},
   "outputs": [],
   "source": [
    "def sieve_of_eratosthenes(n):\n",
    "   \n",
    "    limit = 10 * n  # Estimate upper limit\n",
    "    sieve = [True] * limit  # True means \"assumed prime\"\n",
    "    sieve[0] = sieve[1] = False  # 0 and 1 are not primes\n",
    "\n",
    "    for i in range(2, int(limit**0.5) + 1):\n",
    "        if sieve[i]:  # If i is prime\n",
    "            for multiple in range(i * i, limit, i):\n",
    "                sieve[multiple] = False  # Mark multiples as non-prime\n",
    "\n",
    "    primes = [num for num, is_prime in enumerate(sieve) if is_prime][:n]\n",
    "    return primes"
   ]
  },
  {
   "cell_type": "markdown",
   "metadata": {},
   "source": [
    "We not run the function to generate the first `1,000 prime numbers`.\n",
    "\n",
    "- We run the Sieve of Eratosthenes function.\n",
    "- The first `10` primes are printed for verification."
   ]
  },
  {
   "cell_type": "code",
   "execution_count": 16,
   "metadata": {},
   "outputs": [
    {
     "name": "stdout",
     "output_type": "stream",
     "text": [
      "[2, 3, 5, 7, 11, 13, 17, 19, 23, 29]\n"
     ]
    }
   ],
   "source": [
    "# Generate first 1000 primes using Sieve of Eratosthenes\n",
    "sieve_result = sieve_of_eratosthenes(1000)\n",
    "\n",
    "# Print first 10 primes for verification\n",
    "print(sieve_result[:10])"
   ]
  },
  {
   "cell_type": "markdown",
   "metadata": {},
   "source": [
    " **Advantages:**\n",
    "- A lot faster than Trial Division.\n",
    "- Large values work well.\n",
    "\n",
    " **Disadvantages:**\n",
    "- Requires extra memory to store the boolean array."
   ]
  },
  {
   "cell_type": "markdown",
   "metadata": {},
   "source": [
    "## Trial Division vs. Sieve of Eratosthenes\n",
    "\n",
    "| Feature              | Trial Division        | Sieve of Eratosthenes   |\n",
    "|----------------------|------------------------|--------------------------|\n",
    "| Time Complexity      | O(n²)                  | O(n log log n)           |\n",
    "| Memory Usage         | Low                    | Higher (uses boolean list) |\n",
    "| Best For             | Small lists or teaching| Fast prime generation    |\n",
    "| Code Complexity      | Simple                 | Moderate                 |\n",
    "\n",
    "- **Trial Division** is more simple but not as effective for large values.\n",
    "- **Sieve of Eratosthenes** is a lot  faster but does require extra memory."
   ]
  },
  {
   "attachments": {},
   "cell_type": "markdown",
   "metadata": {},
   "source": [
    "## Task 5: Roots\n",
    "\n",
    "## Compute the first 100 prime numbers\n",
    "\n",
    "There needs to be 100 prime numbers before we start to calculate square roots.\n",
    "\n",
    "- **Sieve of Eratosthenes** is used to generate the first 100 prime numbers as it is the most efficient method.\n",
    "- By doing this we make sure we don’t manually list primes.\n",
    "\n",
    "SHA-256 derives some of its constants from the first 32 bits of the fractional parts of square roots of the first 8 primes which ensures randomness in hashing algorithms which is noted in [Wikipedia – SHA-2 Constants](https://en.wikipedia.org/wiki/SHA-2#Pseudorandom_constants)"
   ]
  },
  {
   "cell_type": "code",
   "execution_count": 17,
   "metadata": {},
   "outputs": [
    {
     "name": "stdout",
     "output_type": "stream",
     "text": [
      "[2, 3, 5, 7, 11, 13, 17, 19, 23, 29]\n"
     ]
    }
   ],
   "source": [
    "from math import sqrt\n",
    "\n",
    "def sieve_of_eratosthenes(n):\n",
    "    \"\"\"\n",
    "    Finds the first 'n' prime numbers using the Sieve of Eratosthenes.\n",
    "    \"\"\"\n",
    "    limit = 1000  # Estimate a safe upper limit\n",
    "    sieve = [True] * limit  # True means \"assumed prime\"\n",
    "    sieve[0] = sieve[1] = False  # 0 and 1 are not primes\n",
    "\n",
    "    for i in range(2, int(limit**0.5) + 1):\n",
    "        if sieve[i]:  # If i is prime\n",
    "            for multiple in range(i * i, limit, i):\n",
    "                sieve[multiple] = False  # Mark multiples as non-prime\n",
    "\n",
    "    primes = [num for num, is_prime in enumerate(sieve) if is_prime][:n]\n",
    "    return primes\n",
    "\n",
    "#  Generate first 100 prime numbers\n",
    "first_100_primes = sieve_of_eratosthenes(100)\n",
    "print(first_100_primes[:10])  # Print first 10 primes for verification\n"
   ]
  },
  {
   "cell_type": "markdown",
   "metadata": {},
   "source": [
    "## Compute square roots & extract fractional part\n",
    "\n",
    "- We calculate the square root of each prime.\n",
    "- We isolate the fractional part.\n",
    "- The fractional part is then converted to binary."
   ]
  },
  {
   "cell_type": "code",
   "execution_count": 18,
   "metadata": {},
   "outputs": [
    {
     "name": "stdout",
     "output_type": "stream",
     "text": [
      "Example: sqrt(2) = 1.4142135623730951, Fractional Part = 0.41421356237309515\n"
     ]
    }
   ],
   "source": [
    "def get_fractional_part(number):\n",
    "    \"\"\"\n",
    "    Extracts the fractional part of a number.\n",
    "    \"\"\"\n",
    "    return number - int(number)  # Remove integer part\n",
    "\n",
    "# Example: Extract fractional part of sqrt(2)\n",
    "example_sqrt = sqrt(2)\n",
    "fractional_part = get_fractional_part(example_sqrt)\n",
    "print(f\"Example: sqrt(2) = {example_sqrt}, Fractional Part = {fractional_part}\")"
   ]
  },
  {
   "cell_type": "markdown",
   "metadata": {},
   "source": [
    "## Converting the fractional part to 32-bit binary\n",
    "\n",
    "- We multiply the fractional part by 2 repeatedly.\n",
    "- The integer part of each multiplication then gives us `1s` and `0s`.\n",
    "- We extract `32 bits` from this conversion."
   ]
  },
  {
   "cell_type": "code",
   "execution_count": 19,
   "metadata": {},
   "outputs": [
    {
     "name": "stdout",
     "output_type": "stream",
     "text": [
      "32-bit binary of sqrt(2) fractional part: 01101010000010011110011001100111\n"
     ]
    }
   ],
   "source": [
    "def fractional_to_binary(fraction, bits=32):\n",
    "    \"\"\"\n",
    "    Converts a fractional part to a 32-bit binary representation.\n",
    "    \"\"\"\n",
    "    binary_str = \"\"\n",
    "    for _ in range(bits):\n",
    "        fraction *= 2\n",
    "        if fraction >= 1:\n",
    "            binary_str += \"1\"\n",
    "            fraction -= 1\n",
    "        else:\n",
    "            binary_str += \"0\"\n",
    "    return binary_str\n",
    "\n",
    "binary_fractional_part = fractional_to_binary(fractional_part)\n",
    "print(f\"32-bit binary of sqrt(2) fractional part: {binary_fractional_part}\")"
   ]
  },
  {
   "cell_type": "markdown",
   "metadata": {},
   "source": [
    "## Computing and displaying results for the first 100 Primes\n",
    "\n",
    "- For each prime number we must compute the `square root`.\n",
    "- Extract the fractional then convert it to binary.\n",
    "- The print out the first `10` results for verification."
   ]
  },
  {
   "cell_type": "code",
   "execution_count": 20,
   "metadata": {},
   "outputs": [
    {
     "name": "stdout",
     "output_type": "stream",
     "text": [
      "Prime: 2, Binary (32 bits): 01101010000010011110011001100111\n",
      "Prime: 3, Binary (32 bits): 10111011011001111010111010000101\n",
      "Prime: 5, Binary (32 bits): 00111100011011101111001101110010\n",
      "Prime: 7, Binary (32 bits): 10100101010011111111010100111010\n",
      "Prime: 11, Binary (32 bits): 01010001000011100101001001111111\n",
      "Prime: 13, Binary (32 bits): 10011011000001010110100010001100\n",
      "Prime: 17, Binary (32 bits): 00011111100000111101100110101011\n",
      "Prime: 19, Binary (32 bits): 01011011111000001100110100011001\n",
      "Prime: 23, Binary (32 bits): 11001011101110111001110101011101\n",
      "Prime: 29, Binary (32 bits): 01100010100110100010100100101010\n"
     ]
    }
   ],
   "source": [
    "# Compute the first 32 bits of the fractional part of sqrt(primes)\n",
    "results = {}\n",
    "\n",
    "for prime in first_100_primes:\n",
    "    sqrt_value = sqrt(prime)  # Compute square root\n",
    "    fractional_part = get_fractional_part(sqrt_value)  # Extract fractional part\n",
    "    binary_representation = fractional_to_binary(fractional_part)  # Convert to binary\n",
    "    results[prime] = binary_representation\n",
    "\n",
    "# Print first 10 results\n",
    "for prime, binary in list(results.items())[:10]:\n",
    "    print(f\"Prime: {prime}, Binary (32 bits): {binary}\")"
   ]
  },
  {
   "cell_type": "markdown",
   "metadata": {},
   "source": [
    "## Task 6: Proof of Work\n",
    "\n",
    "Find words in the English language with the most amount of 0 bits at the beginning of their SHA256 hash digest.\n",
    "\n",
    "- Demonstrates the core principle behind cryptocurrency mining\n",
    "- Shows how miners search for hash values with specific patterns\n",
    "- Known as a \"partial hash collision\" in blockchain technologies\n",
    "\n",
    "This concept is fundamental to systems like Bitcoin, as described in [Nakamoto's original Bitcoin whitepaper](https://bitcoin.org/bitcoin.pdf)."
   ]
  },
  {
   "cell_type": "markdown",
   "metadata": {},
   "source": [
    "### SHA-256 Hash Computation\n",
    "\n",
    "Function to compute SHA-256 hashes and count leading zero bits.\n",
    "\n",
    "- SHA-256 produces a fixed-size 256-bit hash value\n",
    "- Makes it computationally impossible to find two inputs with same output\n",
    "- Perfect for proof-of-work systems\n",
    "\n",
    "As specified in [NIST's Secure Hash Standard](https://nvlpubs.nist.gov/nistpubs/FIPS/NIST.FIPS.180-4.pdf)."
   ]
  },
  {
   "cell_type": "code",
   "execution_count": 21,
   "metadata": {},
   "outputs": [],
   "source": [
    "import hashlib\n",
    "import urllib.request\n",
    "import requests\n",
    "from typing import List, Tuple\n",
    "\n",
    "def get_sha256_hash(word: str) -> str:\n",
    "    \"\"\"Calculate the SHA256 hash of a given word.\"\"\"\n",
    "    hash_obj = hashlib.sha256(word.encode('utf-8'))\n",
    "    return hash_obj.hexdigest()\n",
    "\n",
    "def count_leading_zero_bits(hash_hex: str) -> int:\n",
    "    \"\"\"Count the number of leading zero bits in a hash hexadecimal string.\"\"\"\n",
    "    # Convert hex to binary string (without '0b' prefix)\n",
    "    binary = bin(int(hash_hex, 16))[2:].zfill(256)\n",
    "    \n",
    "    # Count leading zeros\n",
    "    for i, bit in enumerate(binary):\n",
    "        if bit == '1':\n",
    "            return i\n",
    "    return len(binary)  # All zeros (extremely unlikely)"
   ]
  },
  {
   "cell_type": "markdown",
   "metadata": {},
   "source": [
    "### Loading English Dictionary\n",
    "\n",
    "Load a comprehensive dictionary of English words with multiple fallback sources.\n",
    "\n",
    "- Requires searching through many potential inputs\n",
    "- Finds words that produce hash values with specific properties\n",
    "- Broader dictionary means more thorough search"
   ]
  },
  {
   "cell_type": "code",
   "execution_count": 22,
   "metadata": {},
   "outputs": [],
   "source": [
    "def load_word_list() -> List[str]:\n",
    "    \"\"\"Load a list of English words from a standard dictionary source.\"\"\"\n",
    "    try:\n",
    "        # Try GitHub English words repository (large dictionary)\n",
    "        url = \"https://raw.githubusercontent.com/dwyl/english-words/master/words_alpha.txt\"\n",
    "        print(\"Downloading dictionary from GitHub...\")\n",
    "        with urllib.request.urlopen(url) as response:\n",
    "            words = response.read().decode('utf-8').splitlines()\n",
    "        print(f\"Downloaded {len(words)} words successfully\")\n",
    "        return [word.strip() for word in words if word.strip()]\n",
    "    except Exception as e:\n",
    "        print(f\"Failed to download dictionary: {e}\")\n",
    "        # Fall back to system dictionary\n",
    "        try:\n",
    "            with open(\"/usr/share/dict/words\") as f:\n",
    "                words = [line.strip() for line in f if line.strip().isalpha()]\n",
    "            print(f\"Using system dictionary with {len(words)} words\")\n",
    "            return words\n",
    "        except FileNotFoundError:\n",
    "            # Final fallback to a modest list\n",
    "            basic_words = [\n",
    "                \"apple\", \"banana\", \"orange\", \"proof\", \"of\", \"work\", \"zero\", \"hash\", \n",
    "                \"challenge\", \"computer\", \"algorithm\", \"binary\", \"digital\", \"cryptography\", \n",
    "                \"blockchain\", \"theory\", \"logic\", \"password\", \"secure\", \"random\", \"number\", \n",
    "                \"prime\", \"factor\", \"integer\", \"function\", \"program\", \"system\", \"network\",\n",
    "                \"database\", \"memory\", \"process\", \"thread\", \"kernel\", \"module\", \"class\",\n",
    "                \"object\", \"string\", \"array\", \"list\", \"queue\", \"stack\", \"tree\", \"graph\"\n",
    "            ]\n",
    "            print(f\"Using fallback word list with {len(basic_words)} words\")\n",
    "            return basic_words"
   ]
  },
  {
   "cell_type": "markdown",
   "metadata": {},
   "source": [
    "### Dictionary Verification\n",
    "\n",
    "Verify results are legitimate English words through multiple dictionary sources.\n",
    "\n",
    "- Ensures inputs are real words, not random character sequences\n",
    "- Maintains integrity of results\n",
    "- Shows finding specific hash patterns with meaningful inputs is harder"
   ]
  },
  {
   "cell_type": "code",
   "execution_count": 23,
   "metadata": {},
   "outputs": [],
   "source": [
    "def verify_word(word: str) -> Tuple[bool, str]:\n",
    "    \"\"\"\n",
    "    Verify if a word exists in an English dictionary.\n",
    "    \n",
    "    Returns:\n",
    "        Tuple[bool, str]: (is_valid, source_of_verification)\n",
    "    \"\"\"\n",
    "    # Make sure this block is at the beginning of the function\n",
    "    global words_set\n",
    "    if not 'words_set' in globals():\n",
    "        words = load_word_list()\n",
    "        words_set = set(words)\n",
    "    if word in words_set:\n",
    "        return True, \"Dictionary source\"\n",
    "    # First check: Merriam-Webster dictionary\n",
    "    try:\n",
    "        url = f\"https://www.merriam-webster.com/dictionary/{word}\"\n",
    "        response = requests.get(url)\n",
    "        if \"The word you've entered isn't in the dictionary\" not in response.text:\n",
    "            return True, \"Merriam-Webster\"\n",
    "    except Exception as e:\n",
    "        print(f\"Merriam-Webster check failed: {e}\")\n",
    "    \n",
    "    # Second check: Dictionary API\n",
    "    try:\n",
    "        response = requests.get(f\"https://api.dictionaryapi.dev/api/v2/entries/en/{word}\")\n",
    "        if response.status_code == 200:\n",
    "            return True, \"Dictionary API\"\n",
    "    except Exception as e:\n",
    "        print(f\"Dictionary API check failed: {e}\")\n",
    "    \n",
    "    # Final check: system dictionary\n",
    "    try:\n",
    "        with open(\"/usr/share/dict/words\") as f:\n",
    "            dictionary = {line.strip().lower() for line in f if line.strip().isalpha()}\n",
    "        if word.lower() in dictionary:\n",
    "            return True, \"System dictionary\"\n",
    "    except FileNotFoundError:\n",
    "        pass\n",
    "        \n",
    "    return False, \"Not found in any dictionary\""
   ]
  },
  {
   "cell_type": "markdown",
   "metadata": {},
   "source": [
    "### Finding Words with Most Leading Zeros\n",
    "\n",
    "Core algorithm to find words with maximum leading zero bits in SHA-256 hash.\n",
    "\n",
    "- Simulates cryptocurrency \"mining\" process\n",
    "- Finds hash values with specific patterns\n",
    "- Uses English words as inputs instead of block headers with nonces"
   ]
  },
  {
   "cell_type": "code",
   "execution_count": 24,
   "metadata": {},
   "outputs": [],
   "source": [
    "def find_words_with_most_leading_zeros(words: List[str], top_n: int = 10) -> List[Tuple[str, int, str]]:\n",
    "    \"\"\"\n",
    "    Find words with the most leading zero bits in their SHA256 hash.\n",
    "    \n",
    "    Args:\n",
    "        words: List of words to check\n",
    "        top_n: Number of top results to return\n",
    "    \n",
    "    Returns:\n",
    "        List of tuples containing (word, zero_count, hash_hex)\n",
    "    \"\"\"\n",
    "    print(f\"Processing {len(words)} words to find maximum leading zeros...\")\n",
    "    word_counts = []\n",
    "    \n",
    "    # Process each word\n",
    "    for i, word in enumerate(words):\n",
    "        if i % 10000 == 0 and i > 0:\n",
    "            print(f\"Processed {i}/{len(words)} words...\")\n",
    "            \n",
    "        if word.isalpha():  # Only process alphabetic words\n",
    "            hash_hex = get_sha256_hash(word)\n",
    "            zeros = count_leading_zero_bits(hash_hex)\n",
    "            word_counts.append((word, zeros, hash_hex))\n",
    "\n",
    "    # Sort by number of leading zeros (descending)\n",
    "    word_counts.sort(key=lambda x: x[1], reverse=True)\n",
    "    return word_counts[:top_n]"
   ]
  },
  {
   "cell_type": "markdown",
   "metadata": {},
   "source": [
    "### Running the Complete Solution\n",
    "\n",
    "Execute algorithm to find English words with most leading zero bits.\n",
    "\n",
    "- Processes dictionary in manageable chunks\n",
    "- Tracks and displays progress\n",
    "- Illustrates computational effort required for finding patterns in hash functions"
   ]
  },
  {
   "cell_type": "code",
   "execution_count": 25,
   "metadata": {},
   "outputs": [],
   "source": [
    "def display_results(results: List[Tuple[str, int, str]]):\n",
    "    \"\"\"Display the top words with their leading zero counts and hashes.\"\"\"\n",
    "    print(\"\\nWords with most leading zero bits in SHA256 hash:\")\n",
    "    print(\"================================================\")\n",
    "\n",
    "    for i, (word, zeros, hash_hex) in enumerate(results):\n",
    "        is_valid, source = verify_word(word)\n",
    "        \n",
    "        print(f\"\\n{i+1}. Word: {word}\")\n",
    "        print(f\"   Leading zero bits: {zeros}\")\n",
    "        print(f\"   SHA256 hash: {hash_hex}\")\n",
    "\n",
    "        # Display the first few bytes in binary to show the leading zeros\n",
    "        binary = bin(int(hash_hex[:16], 16))[2:].zfill(64)  # First 16 hex chars (64 bits)\n",
    "        print(f\"   Binary (first 64 bits): {binary}\")\n",
    "        print(f\"   Dictionary verification: {source if is_valid else 'Not verified'}\")\n",
    "        \n",
    "        if is_valid:\n",
    "            print(f\"   Can be verified at: https://www.merriam-webster.com/dictionary/{word}\")"
   ]
  },
  {
   "cell_type": "markdown",
   "metadata": {},
   "source": [
    "### Running the Complete Solution\n",
    "\n",
    "Now we'll execute the full algorithm to find English words with the most leading zero bits in their SHA-256 hash.\n",
    "\n",
    "This process illustrates the computational effort required to find specific patterns in cryptographic hash functions, which forms the basis of blockchain mining difficulty adjustment mechanisms."
   ]
  },
  {
   "cell_type": "code",
   "execution_count": 26,
   "metadata": {},
   "outputs": [
    {
     "name": "stdout",
     "output_type": "stream",
     "text": [
      "Downloading dictionary from GitHub...\n",
      "Downloaded 370105 words successfully\n",
      "Processing full dictionary with 370105 words...\n",
      "Processing words 0 to 50000...\n",
      "Found another with 0 zeros: a\n",
      "Found another with 0 zeros: aa\n",
      "Found another with 0 zeros: aaa\n",
      "New best: aah with 3 leading zeros\n",
      "New best: aahs with 4 leading zeros\n",
      "New best: ababua with 5 leading zeros\n",
      "New best: abac with 6 leading zeros\n",
      "Found another with 6 zeros: abadia\n",
      "Found another with 6 zeros: abarambo\n",
      "Found another with 6 zeros: abasers\n",
      "New best: abbe with 7 leading zeros\n",
      "New best: abdicate with 8 leading zeros\n",
      "New best: abohm with 9 leading zeros\n",
      "New best: absinthine with 10 leading zeros\n",
      "Found another with 10 zeros: acronymically\n",
      "New best: agriculturists with 11 leading zeros\n",
      "Found another with 11 zeros: airbrasive\n",
      "New best: alpestral with 14 leading zeros\n",
      "Processing words 50000 to 100000...\n",
      "Found another with 14 zeros: courteously\n",
      "New best: duppa with 15 leading zeros\n",
      "Processing words 100000 to 150000...\n",
      "New best: goaltenders with 18 leading zeros\n",
      "Processing words 150000 to 200000...\n",
      "Processing words 200000 to 250000...\n",
      "Processing words 250000 to 300000...\n",
      "Processing words 300000 to 350000...\n",
      "Processing words 350000 to 370105...\n",
      "\n",
      "Results - Words with most leading zeros:\n",
      "========================================\n",
      "Downloading dictionary from GitHub...\n",
      "Downloaded 370105 words successfully\n",
      "1. Word: goaltenders\n",
      "   Leading zero bits: 18\n",
      "   SHA256 hash: 00002e68c9d3d1fc5d3178bee91040efbeb4ac9ea7722c834fa5d71b2e3845cd\n",
      "   Verification: Dictionary source\n",
      "   Binary: 0000000000000000001011100110100011001001110100111101000111111100\n",
      "\n",
      "\n",
      "Task 6 Conclusions:\n",
      "===================\n",
      "Finding words with the most leading zero bits in their SHA256 hash\n",
      "demonstrates the core principle behind proof-of-work systems.\n",
      "The maximum leading zeros found was 18.\n"
     ]
    }
   ],
   "source": [
    "def find_proof_of_work_words():\n",
    "    \"\"\"Main function to find English words with most leading zeros in SHA256 hash.\"\"\"\n",
    "    # Load dictionary\n",
    "    words = load_word_list()\n",
    "    \n",
    "    # Process full dictionary - don't limit it\n",
    "    test_words = words  # Use ALL words, not just first 10,000\n",
    "    print(f\"Processing full dictionary with {len(test_words)} words...\")\n",
    "    \n",
    "    # Process in chunks to show progress\n",
    "    chunk_size = 50000\n",
    "    max_zeros = 0\n",
    "    best_words = []\n",
    "    \n",
    "    # Process each chunk\n",
    "    for i in range(0, len(test_words), chunk_size):\n",
    "        chunk = test_words[i:i+chunk_size]\n",
    "        print(f\"Processing words {i} to {min(i+chunk_size, len(test_words))}...\")\n",
    "        \n",
    "        # Find best words in this chunk\n",
    "        for word in chunk:\n",
    "            if word.isalpha():\n",
    "                hash_hex = get_sha256_hash(word)\n",
    "                zeros = count_leading_zero_bits(hash_hex)\n",
    "                \n",
    "                if zeros > max_zeros:\n",
    "                    max_zeros = zeros\n",
    "                    best_words = [(word, zeros, hash_hex)]\n",
    "                    print(f\"New best: {word} with {zeros} leading zeros\")\n",
    "                elif zeros == max_zeros:\n",
    "                    best_words.append((word, zeros, hash_hex))\n",
    "                    print(f\"Found another with {zeros} zeros: {word}\")\n",
    "    \n",
    "    # Display simple results immediately\n",
    "    print(\"\\nResults - Words with most leading zeros:\")\n",
    "    print(\"========================================\")\n",
    "    for i, (word, zeros, hash_hex) in enumerate(best_words):\n",
    "        is_valid, source = verify_word(word)\n",
    "        print(f\"{i+1}. Word: {word}\")\n",
    "        print(f\"   Leading zero bits: {zeros}\")\n",
    "        print(f\"   SHA256 hash: {hash_hex}\")\n",
    "        print(f\"   Verification: {source if is_valid else 'Not verified'}\")\n",
    "        print(f\"   Binary: {bin(int(hash_hex[:16], 16))[2:].zfill(64)}\")\n",
    "        print()\n",
    "    \n",
    "    # Display conclusion\n",
    "    print(\"\\nTask 6 Conclusions:\")\n",
    "    print(\"===================\")\n",
    "    print(\"Finding words with the most leading zero bits in their SHA256 hash\")\n",
    "    print(\"demonstrates the core principle behind proof-of-work systems.\")\n",
    "    print(f\"The maximum leading zeros found was {max_zeros}.\")\n",
    "\n",
    "# Run the function\n",
    "find_proof_of_work_words()"
   ]
  },
  {
   "attachments": {},
   "cell_type": "markdown",
   "metadata": {},
   "source": [
    "## Task 7: Turing Machines\n",
    "\n",
    "### The Significance of Turing Machines in Computing Theory\n",
    "\n",
    "- **Universal Computation**: All algorithms can be computed by a Turing Machine\n",
    "- **Computational Limits**: Turing Machines help decide what is and isn't computationally possible\n",
    "- **Halting Problem**: Turing proved some problems are undecidable, which shows there is boundaries of computation\n",
    "- **Foundation for Modern Computing**: Modern computers follow the same basic principles\n",
    "\n",
    "This simple binary increment operation illustrates how even complex calculations can be broken down into a series of simple state transitions and symbol manipulations. As explained in [Stanford's Encyclopedia of Philosophy entry on Turing Machines](https://plato.stanford.edu/entries/turing-machine/), Turing's model serves as \"the foundation for the definition of computability and computational complexity theory.\""
   ]
  },
  {
   "cell_type": "markdown",
   "metadata": {},
   "source": [
    "In this task we created a simple Turing Machine which adds `1` to a binary number.\n",
    "\n",
    "This is done by:\n",
    "\n",
    "- **Tape Input:** A binary number is represented as a string (e.g. `100111`).  \n",
    "- **LSB Handling:** Addition begins at the least significant bit.  \n",
    "- **Carry Logic:** If a bit is 1, write 0 and move left; if 0, write 1 and halt.  \n",
    "- **Blank Tape Handling:** If blank (B) is reached, write 1 at front.  \n",
    "\n",
    "\n",
    "The implementation follows the Turing Machine described in [GeeksforGeeks' article on incrementing binary numbers](https://www.geeksforgeeks.org/construct-turing-machine-for-incrementing-binary-number-by-1/), which shows the state transitions required for binary addition."
   ]
  },
  {
   "cell_type": "markdown",
   "metadata": {},
   "source": [
    "## State Transition Table\n",
    "\n",
    "| Current State | Read Symbol | Write Symbol | Move | Next State |\n",
    "|---------------|-------------|--------------|------|------------|\n",
    "| `q0`          | `1`         | `0`          | L    | `q0`       |\n",
    "| `q0`          | `0`         | `1`          | R    | `HALT`     |\n",
    "| `q0`          | `B`         | `1`          | R    | `HALT`     |\n",
    "\n",
    "**Explanation**:\n",
    "- The main state is q0 which is where the machine does the carry logic\n",
    "q0 = main carry-propagation state.  \n",
    "- When there is a `1` read it then writes `0` and moves on to the left.  \n",
    "- If there is a `0` seen then the carry is ended and a `1` is then written and it stops.  \n",
    "- When the machine sees a blank which is a (B) that means the number was at `1` so it then writes a new `1` at the start.  \n",
    "\n",
    "This implementation follows Turing Machine principles described in [TutorialsPoint's guide on binary incrementation with Turing Machines](https://www.tutorialspoint.com/design-a-tm-that-increments-a-binary-number-by-1), demonstrating the formal state-machine approach to computation."
   ]
  },
  {
   "cell_type": "code",
   "execution_count": 27,
   "metadata": {},
   "outputs": [
    {
     "name": "stdout",
     "output_type": "stream",
     "text": [
      "Input:  100111\n",
      "Output: 101000\n"
     ]
    }
   ],
   "source": [
    "def turing_add_one(tape_input):\n",
    "    # Convert input string to list (tape), and add blank symbol at the beginning\n",
    "    tape = ['B'] + list(tape_input)\n",
    "    head = len(tape) - 1  # Start at right-most symbol (LSB)\n",
    "    state = 'q0'\n",
    "\n",
    "    while state != 'HALT':\n",
    "        symbol = tape[head]\n",
    "\n",
    "        if state == 'q0':\n",
    "            if symbol == '1':\n",
    "                tape[head] = '0'\n",
    "                head -= 1\n",
    "            elif symbol == '0':\n",
    "                tape[head] = '1'\n",
    "                state = 'HALT'\n",
    "            elif symbol == 'B':\n",
    "                tape[head] = '1'\n",
    "                state = 'HALT'\n",
    "\n",
    "    # Remove leading blank if not needed\n",
    "    result = ''.join(tape).lstrip('B')\n",
    "    return result\n",
    "\n",
    "# Test case\n",
    "input_tape = '100111'\n",
    "output_tape = turing_add_one(input_tape)\n",
    "\n",
    "print(f\"Input:  {input_tape}\")\n",
    "print(f\"Output: {output_tape}\")"
   ]
  },
  {
   "attachments": {},
   "cell_type": "markdown",
   "metadata": {},
   "source": [
    "## Task 8: Computational Complexity\n",
    "\n",
    "### Bubble Sort with Comparison Counting\n",
    "Created a function that does a normal bubble sort and after every time it compares `2` elements it then counts that comparison.  \n",
    "\n",
    "### Why Bubble Sort?\n",
    "Bubble sort is very simple but has inefficiency for large datasets. According to [Simplilearn's tutorial on bubble sort](https://www.simplilearn.com/tutorials/data-structure-tutorial/bubble-sort-algorithm), this algorithm clearly demonstrates how the initial arrangement of data significantly impacts computational efficiency, making it ideal for teaching complexity analysis. Can show worst case vs best case for behavior and undestands how input order can be effective.  "
   ]
  },
  {
   "cell_type": "code",
   "execution_count": 28,
   "metadata": {},
   "outputs": [],
   "source": [
    "def bubble_sort_with_count(arr):\n",
    "    \"\"\"\n",
    "    Sorts the list using Bubble Sort and counts the comparisons made.\n",
    "    \"\"\"\n",
    "    n = len(arr)\n",
    "    count = 0\n",
    "    a = arr.copy()  # To avoid changing the original permutation\n",
    "    for i in range(n):\n",
    "        for j in range(0, n - i - 1):\n",
    "            count += 1  # Each comparison is counted\n",
    "            if a[j] > a[j + 1]:\n",
    "                a[j], a[j + 1] = a[j + 1], a[j]\n",
    "    return count"
   ]
  },
  {
   "cell_type": "markdown",
   "metadata": {},
   "source": [
    "### Generate All Permutations\n",
    "\n",
    "Created all `120` permutations of [1, 2, 3, 4, 5] using Python's itertools.permutations.   \n",
    "Used the bubble sort function for every permutation and displayed the outcome.  \n",
    "Each result is stored as a tuple: (permutation, comparison_count) in a list called results."
   ]
  },
  {
   "cell_type": "code",
   "execution_count": 29,
   "metadata": {},
   "outputs": [],
   "source": [
    "from itertools import permutations\n",
    "\n",
    "L = [1, 2, 3, 4, 5]\n",
    "all_perms = list(permutations(L))\n",
    "\n",
    "results = []\n",
    "\n",
    "for perm in all_perms:\n",
    "    comparison_count = bubble_sort_with_count(list(perm))\n",
    "    results.append((perm, comparison_count))"
   ]
  },
  {
   "cell_type": "markdown",
   "metadata": {},
   "source": [
    "### Calculates key statistics from the results:\n",
    "\n",
    "Minimum comparisons → Best-case scenario.\n",
    "\n",
    "Maximum comparisons → Worst-case scenario.\n",
    "\n",
    "Average comparisons → How Bubble Sort performs across all `120` permutations."
   ]
  },
  {
   "cell_type": "code",
   "execution_count": 30,
   "metadata": {},
   "outputs": [
    {
     "name": "stdout",
     "output_type": "stream",
     "text": [
      "\n",
      "----Summary Statistics----\n",
      "Total permutations: 120\n",
      "Minimum comparisons (best case): 10\n",
      "Maximum comparisons (worst case): 10\n",
      "Average comparisons: 10.00\n"
     ]
    }
   ],
   "source": [
    "from statistics import mean\n",
    "\n",
    "comparison_values = [count for _, count in results]\n",
    "min_comparisons = min(comparison_values)\n",
    "max_comparisons = max(comparison_values)\n",
    "avg_comparisons = mean(comparison_values)\n",
    "\n",
    "print(f\"\\n----Summary Statistics----\")\n",
    "print(f\"Total permutations: {len(results)}\")\n",
    "print(f\"Minimum comparisons (best case): {min_comparisons}\")\n",
    "print(f\"Maximum comparisons (worst case): {max_comparisons}\")\n",
    "print(f\"Average comparisons: {avg_comparisons:.2f}\")"
   ]
  },
  {
   "cell_type": "markdown",
   "metadata": {},
   "source": [
    "### Identify Best and Worst Case Inputs\n",
    "Displaying the specific permutations that resulted in:\n",
    "\n",
    "The minimum number of comparisons.\n",
    "\n",
    "The maximum number of comparisons.\n",
    "\n",
    "This helps understand which types of input orders cause the most or least work for Bubble Sort."
   ]
  },
  {
   "cell_type": "code",
   "execution_count": 31,
   "metadata": {},
   "outputs": [
    {
     "name": "stdout",
     "output_type": "stream",
     "text": [
      "\n",
      "🔝 Best-case Permutations (min comparisons):\n",
      "(1, 2, 3, 4, 5) -> 10 comparisons\n",
      "(1, 2, 3, 5, 4) -> 10 comparisons\n",
      "(1, 2, 4, 3, 5) -> 10 comparisons\n",
      "(1, 2, 4, 5, 3) -> 10 comparisons\n",
      "(1, 2, 5, 3, 4) -> 10 comparisons\n",
      "(1, 2, 5, 4, 3) -> 10 comparisons\n",
      "(1, 3, 2, 4, 5) -> 10 comparisons\n",
      "(1, 3, 2, 5, 4) -> 10 comparisons\n",
      "(1, 3, 4, 2, 5) -> 10 comparisons\n",
      "(1, 3, 4, 5, 2) -> 10 comparisons\n",
      "(1, 3, 5, 2, 4) -> 10 comparisons\n",
      "(1, 3, 5, 4, 2) -> 10 comparisons\n",
      "(1, 4, 2, 3, 5) -> 10 comparisons\n",
      "(1, 4, 2, 5, 3) -> 10 comparisons\n",
      "(1, 4, 3, 2, 5) -> 10 comparisons\n",
      "(1, 4, 3, 5, 2) -> 10 comparisons\n",
      "(1, 4, 5, 2, 3) -> 10 comparisons\n",
      "(1, 4, 5, 3, 2) -> 10 comparisons\n",
      "(1, 5, 2, 3, 4) -> 10 comparisons\n",
      "(1, 5, 2, 4, 3) -> 10 comparisons\n",
      "(1, 5, 3, 2, 4) -> 10 comparisons\n",
      "(1, 5, 3, 4, 2) -> 10 comparisons\n",
      "(1, 5, 4, 2, 3) -> 10 comparisons\n",
      "(1, 5, 4, 3, 2) -> 10 comparisons\n",
      "(2, 1, 3, 4, 5) -> 10 comparisons\n",
      "(2, 1, 3, 5, 4) -> 10 comparisons\n",
      "(2, 1, 4, 3, 5) -> 10 comparisons\n",
      "(2, 1, 4, 5, 3) -> 10 comparisons\n",
      "(2, 1, 5, 3, 4) -> 10 comparisons\n",
      "(2, 1, 5, 4, 3) -> 10 comparisons\n",
      "(2, 3, 1, 4, 5) -> 10 comparisons\n",
      "(2, 3, 1, 5, 4) -> 10 comparisons\n",
      "(2, 3, 4, 1, 5) -> 10 comparisons\n",
      "(2, 3, 4, 5, 1) -> 10 comparisons\n",
      "(2, 3, 5, 1, 4) -> 10 comparisons\n",
      "(2, 3, 5, 4, 1) -> 10 comparisons\n",
      "(2, 4, 1, 3, 5) -> 10 comparisons\n",
      "(2, 4, 1, 5, 3) -> 10 comparisons\n",
      "(2, 4, 3, 1, 5) -> 10 comparisons\n",
      "(2, 4, 3, 5, 1) -> 10 comparisons\n",
      "(2, 4, 5, 1, 3) -> 10 comparisons\n",
      "(2, 4, 5, 3, 1) -> 10 comparisons\n",
      "(2, 5, 1, 3, 4) -> 10 comparisons\n",
      "(2, 5, 1, 4, 3) -> 10 comparisons\n",
      "(2, 5, 3, 1, 4) -> 10 comparisons\n",
      "(2, 5, 3, 4, 1) -> 10 comparisons\n",
      "(2, 5, 4, 1, 3) -> 10 comparisons\n",
      "(2, 5, 4, 3, 1) -> 10 comparisons\n",
      "(3, 1, 2, 4, 5) -> 10 comparisons\n",
      "(3, 1, 2, 5, 4) -> 10 comparisons\n",
      "(3, 1, 4, 2, 5) -> 10 comparisons\n",
      "(3, 1, 4, 5, 2) -> 10 comparisons\n",
      "(3, 1, 5, 2, 4) -> 10 comparisons\n",
      "(3, 1, 5, 4, 2) -> 10 comparisons\n",
      "(3, 2, 1, 4, 5) -> 10 comparisons\n",
      "(3, 2, 1, 5, 4) -> 10 comparisons\n",
      "(3, 2, 4, 1, 5) -> 10 comparisons\n",
      "(3, 2, 4, 5, 1) -> 10 comparisons\n",
      "(3, 2, 5, 1, 4) -> 10 comparisons\n",
      "(3, 2, 5, 4, 1) -> 10 comparisons\n",
      "(3, 4, 1, 2, 5) -> 10 comparisons\n",
      "(3, 4, 1, 5, 2) -> 10 comparisons\n",
      "(3, 4, 2, 1, 5) -> 10 comparisons\n",
      "(3, 4, 2, 5, 1) -> 10 comparisons\n",
      "(3, 4, 5, 1, 2) -> 10 comparisons\n",
      "(3, 4, 5, 2, 1) -> 10 comparisons\n",
      "(3, 5, 1, 2, 4) -> 10 comparisons\n",
      "(3, 5, 1, 4, 2) -> 10 comparisons\n",
      "(3, 5, 2, 1, 4) -> 10 comparisons\n",
      "(3, 5, 2, 4, 1) -> 10 comparisons\n",
      "(3, 5, 4, 1, 2) -> 10 comparisons\n",
      "(3, 5, 4, 2, 1) -> 10 comparisons\n",
      "(4, 1, 2, 3, 5) -> 10 comparisons\n",
      "(4, 1, 2, 5, 3) -> 10 comparisons\n",
      "(4, 1, 3, 2, 5) -> 10 comparisons\n",
      "(4, 1, 3, 5, 2) -> 10 comparisons\n",
      "(4, 1, 5, 2, 3) -> 10 comparisons\n",
      "(4, 1, 5, 3, 2) -> 10 comparisons\n",
      "(4, 2, 1, 3, 5) -> 10 comparisons\n",
      "(4, 2, 1, 5, 3) -> 10 comparisons\n",
      "(4, 2, 3, 1, 5) -> 10 comparisons\n",
      "(4, 2, 3, 5, 1) -> 10 comparisons\n",
      "(4, 2, 5, 1, 3) -> 10 comparisons\n",
      "(4, 2, 5, 3, 1) -> 10 comparisons\n",
      "(4, 3, 1, 2, 5) -> 10 comparisons\n",
      "(4, 3, 1, 5, 2) -> 10 comparisons\n",
      "(4, 3, 2, 1, 5) -> 10 comparisons\n",
      "(4, 3, 2, 5, 1) -> 10 comparisons\n",
      "(4, 3, 5, 1, 2) -> 10 comparisons\n",
      "(4, 3, 5, 2, 1) -> 10 comparisons\n",
      "(4, 5, 1, 2, 3) -> 10 comparisons\n",
      "(4, 5, 1, 3, 2) -> 10 comparisons\n",
      "(4, 5, 2, 1, 3) -> 10 comparisons\n",
      "(4, 5, 2, 3, 1) -> 10 comparisons\n",
      "(4, 5, 3, 1, 2) -> 10 comparisons\n",
      "(4, 5, 3, 2, 1) -> 10 comparisons\n",
      "(5, 1, 2, 3, 4) -> 10 comparisons\n",
      "(5, 1, 2, 4, 3) -> 10 comparisons\n",
      "(5, 1, 3, 2, 4) -> 10 comparisons\n",
      "(5, 1, 3, 4, 2) -> 10 comparisons\n",
      "(5, 1, 4, 2, 3) -> 10 comparisons\n",
      "(5, 1, 4, 3, 2) -> 10 comparisons\n",
      "(5, 2, 1, 3, 4) -> 10 comparisons\n",
      "(5, 2, 1, 4, 3) -> 10 comparisons\n",
      "(5, 2, 3, 1, 4) -> 10 comparisons\n",
      "(5, 2, 3, 4, 1) -> 10 comparisons\n",
      "(5, 2, 4, 1, 3) -> 10 comparisons\n",
      "(5, 2, 4, 3, 1) -> 10 comparisons\n",
      "(5, 3, 1, 2, 4) -> 10 comparisons\n",
      "(5, 3, 1, 4, 2) -> 10 comparisons\n",
      "(5, 3, 2, 1, 4) -> 10 comparisons\n",
      "(5, 3, 2, 4, 1) -> 10 comparisons\n",
      "(5, 3, 4, 1, 2) -> 10 comparisons\n",
      "(5, 3, 4, 2, 1) -> 10 comparisons\n",
      "(5, 4, 1, 2, 3) -> 10 comparisons\n",
      "(5, 4, 1, 3, 2) -> 10 comparisons\n",
      "(5, 4, 2, 1, 3) -> 10 comparisons\n",
      "(5, 4, 2, 3, 1) -> 10 comparisons\n",
      "(5, 4, 3, 1, 2) -> 10 comparisons\n",
      "(5, 4, 3, 2, 1) -> 10 comparisons\n",
      "\n",
      "🔻 Worst-case Permutations (max comparisons):\n",
      "(1, 2, 3, 4, 5) -> 10 comparisons\n",
      "(1, 2, 3, 5, 4) -> 10 comparisons\n",
      "(1, 2, 4, 3, 5) -> 10 comparisons\n",
      "(1, 2, 4, 5, 3) -> 10 comparisons\n",
      "(1, 2, 5, 3, 4) -> 10 comparisons\n",
      "(1, 2, 5, 4, 3) -> 10 comparisons\n",
      "(1, 3, 2, 4, 5) -> 10 comparisons\n",
      "(1, 3, 2, 5, 4) -> 10 comparisons\n",
      "(1, 3, 4, 2, 5) -> 10 comparisons\n",
      "(1, 3, 4, 5, 2) -> 10 comparisons\n",
      "(1, 3, 5, 2, 4) -> 10 comparisons\n",
      "(1, 3, 5, 4, 2) -> 10 comparisons\n",
      "(1, 4, 2, 3, 5) -> 10 comparisons\n",
      "(1, 4, 2, 5, 3) -> 10 comparisons\n",
      "(1, 4, 3, 2, 5) -> 10 comparisons\n",
      "(1, 4, 3, 5, 2) -> 10 comparisons\n",
      "(1, 4, 5, 2, 3) -> 10 comparisons\n",
      "(1, 4, 5, 3, 2) -> 10 comparisons\n",
      "(1, 5, 2, 3, 4) -> 10 comparisons\n",
      "(1, 5, 2, 4, 3) -> 10 comparisons\n",
      "(1, 5, 3, 2, 4) -> 10 comparisons\n",
      "(1, 5, 3, 4, 2) -> 10 comparisons\n",
      "(1, 5, 4, 2, 3) -> 10 comparisons\n",
      "(1, 5, 4, 3, 2) -> 10 comparisons\n",
      "(2, 1, 3, 4, 5) -> 10 comparisons\n",
      "(2, 1, 3, 5, 4) -> 10 comparisons\n",
      "(2, 1, 4, 3, 5) -> 10 comparisons\n",
      "(2, 1, 4, 5, 3) -> 10 comparisons\n",
      "(2, 1, 5, 3, 4) -> 10 comparisons\n",
      "(2, 1, 5, 4, 3) -> 10 comparisons\n",
      "(2, 3, 1, 4, 5) -> 10 comparisons\n",
      "(2, 3, 1, 5, 4) -> 10 comparisons\n",
      "(2, 3, 4, 1, 5) -> 10 comparisons\n",
      "(2, 3, 4, 5, 1) -> 10 comparisons\n",
      "(2, 3, 5, 1, 4) -> 10 comparisons\n",
      "(2, 3, 5, 4, 1) -> 10 comparisons\n",
      "(2, 4, 1, 3, 5) -> 10 comparisons\n",
      "(2, 4, 1, 5, 3) -> 10 comparisons\n",
      "(2, 4, 3, 1, 5) -> 10 comparisons\n",
      "(2, 4, 3, 5, 1) -> 10 comparisons\n",
      "(2, 4, 5, 1, 3) -> 10 comparisons\n",
      "(2, 4, 5, 3, 1) -> 10 comparisons\n",
      "(2, 5, 1, 3, 4) -> 10 comparisons\n",
      "(2, 5, 1, 4, 3) -> 10 comparisons\n",
      "(2, 5, 3, 1, 4) -> 10 comparisons\n",
      "(2, 5, 3, 4, 1) -> 10 comparisons\n",
      "(2, 5, 4, 1, 3) -> 10 comparisons\n",
      "(2, 5, 4, 3, 1) -> 10 comparisons\n",
      "(3, 1, 2, 4, 5) -> 10 comparisons\n",
      "(3, 1, 2, 5, 4) -> 10 comparisons\n",
      "(3, 1, 4, 2, 5) -> 10 comparisons\n",
      "(3, 1, 4, 5, 2) -> 10 comparisons\n",
      "(3, 1, 5, 2, 4) -> 10 comparisons\n",
      "(3, 1, 5, 4, 2) -> 10 comparisons\n",
      "(3, 2, 1, 4, 5) -> 10 comparisons\n",
      "(3, 2, 1, 5, 4) -> 10 comparisons\n",
      "(3, 2, 4, 1, 5) -> 10 comparisons\n",
      "(3, 2, 4, 5, 1) -> 10 comparisons\n",
      "(3, 2, 5, 1, 4) -> 10 comparisons\n",
      "(3, 2, 5, 4, 1) -> 10 comparisons\n",
      "(3, 4, 1, 2, 5) -> 10 comparisons\n",
      "(3, 4, 1, 5, 2) -> 10 comparisons\n",
      "(3, 4, 2, 1, 5) -> 10 comparisons\n",
      "(3, 4, 2, 5, 1) -> 10 comparisons\n",
      "(3, 4, 5, 1, 2) -> 10 comparisons\n",
      "(3, 4, 5, 2, 1) -> 10 comparisons\n",
      "(3, 5, 1, 2, 4) -> 10 comparisons\n",
      "(3, 5, 1, 4, 2) -> 10 comparisons\n",
      "(3, 5, 2, 1, 4) -> 10 comparisons\n",
      "(3, 5, 2, 4, 1) -> 10 comparisons\n",
      "(3, 5, 4, 1, 2) -> 10 comparisons\n",
      "(3, 5, 4, 2, 1) -> 10 comparisons\n",
      "(4, 1, 2, 3, 5) -> 10 comparisons\n",
      "(4, 1, 2, 5, 3) -> 10 comparisons\n",
      "(4, 1, 3, 2, 5) -> 10 comparisons\n",
      "(4, 1, 3, 5, 2) -> 10 comparisons\n",
      "(4, 1, 5, 2, 3) -> 10 comparisons\n",
      "(4, 1, 5, 3, 2) -> 10 comparisons\n",
      "(4, 2, 1, 3, 5) -> 10 comparisons\n",
      "(4, 2, 1, 5, 3) -> 10 comparisons\n",
      "(4, 2, 3, 1, 5) -> 10 comparisons\n",
      "(4, 2, 3, 5, 1) -> 10 comparisons\n",
      "(4, 2, 5, 1, 3) -> 10 comparisons\n",
      "(4, 2, 5, 3, 1) -> 10 comparisons\n",
      "(4, 3, 1, 2, 5) -> 10 comparisons\n",
      "(4, 3, 1, 5, 2) -> 10 comparisons\n",
      "(4, 3, 2, 1, 5) -> 10 comparisons\n",
      "(4, 3, 2, 5, 1) -> 10 comparisons\n",
      "(4, 3, 5, 1, 2) -> 10 comparisons\n",
      "(4, 3, 5, 2, 1) -> 10 comparisons\n",
      "(4, 5, 1, 2, 3) -> 10 comparisons\n",
      "(4, 5, 1, 3, 2) -> 10 comparisons\n",
      "(4, 5, 2, 1, 3) -> 10 comparisons\n",
      "(4, 5, 2, 3, 1) -> 10 comparisons\n",
      "(4, 5, 3, 1, 2) -> 10 comparisons\n",
      "(4, 5, 3, 2, 1) -> 10 comparisons\n",
      "(5, 1, 2, 3, 4) -> 10 comparisons\n",
      "(5, 1, 2, 4, 3) -> 10 comparisons\n",
      "(5, 1, 3, 2, 4) -> 10 comparisons\n",
      "(5, 1, 3, 4, 2) -> 10 comparisons\n",
      "(5, 1, 4, 2, 3) -> 10 comparisons\n",
      "(5, 1, 4, 3, 2) -> 10 comparisons\n",
      "(5, 2, 1, 3, 4) -> 10 comparisons\n",
      "(5, 2, 1, 4, 3) -> 10 comparisons\n",
      "(5, 2, 3, 1, 4) -> 10 comparisons\n",
      "(5, 2, 3, 4, 1) -> 10 comparisons\n",
      "(5, 2, 4, 1, 3) -> 10 comparisons\n",
      "(5, 2, 4, 3, 1) -> 10 comparisons\n",
      "(5, 3, 1, 2, 4) -> 10 comparisons\n",
      "(5, 3, 1, 4, 2) -> 10 comparisons\n",
      "(5, 3, 2, 1, 4) -> 10 comparisons\n",
      "(5, 3, 2, 4, 1) -> 10 comparisons\n",
      "(5, 3, 4, 1, 2) -> 10 comparisons\n",
      "(5, 3, 4, 2, 1) -> 10 comparisons\n",
      "(5, 4, 1, 2, 3) -> 10 comparisons\n",
      "(5, 4, 1, 3, 2) -> 10 comparisons\n",
      "(5, 4, 2, 1, 3) -> 10 comparisons\n",
      "(5, 4, 2, 3, 1) -> 10 comparisons\n",
      "(5, 4, 3, 1, 2) -> 10 comparisons\n",
      "(5, 4, 3, 2, 1) -> 10 comparisons\n"
     ]
    }
   ],
   "source": [
    "print(\"\\n🔝 Best-case Permutations (min comparisons):\")\n",
    "for perm, count in results:\n",
    "    if count == min_comparisons:\n",
    "        print(f\"{perm} -> {count} comparisons\")\n",
    "\n",
    "print(\"\\n🔻 Worst-case Permutations (max comparisons):\")\n",
    "for perm, count in results:\n",
    "    if count == max_comparisons:\n",
    "        print(f\"{perm} -> {count} comparisons\")\n"
   ]
  }
 ],
 "metadata": {
  "kernelspec": {
   "display_name": "base",
   "language": "python",
   "name": "python3"
  },
  "language_info": {
   "codemirror_mode": {
    "name": "ipython",
    "version": 3
   },
   "file_extension": ".py",
   "mimetype": "text/x-python",
   "name": "python",
   "nbconvert_exporter": "python",
   "pygments_lexer": "ipython3",
   "version": "3.11.5"
  },
  "orig_nbformat": 4
 },
 "nbformat": 4,
 "nbformat_minor": 2
}
