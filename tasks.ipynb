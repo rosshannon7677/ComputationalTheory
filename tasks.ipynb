{
 "cells": [
  {
   "attachments": {},
   "cell_type": "markdown",
   "metadata": {},
   "source": [
    "\n",
    "## Task 1: Binary Representations"
   ]
  },
  {
   "cell_type": "code",
   "execution_count": 4,
   "metadata": {},
   "outputs": [],
   "source": [
    "def rotl(x, n=1):\n",
    "    \"\"\"\n",
    "    Rotates the bits in a 32-bit unsigned integer to the left by n places.\n",
    "    \"\"\"\n",
    "    n = n % 32  # Ensure n is within valid bit range (0-31)\n",
    "    return ((x << n) & 0xFFFFFFFF) | (x >> (32 - n))"
   ]
  },
  {
   "cell_type": "markdown",
   "metadata": {},
   "source": [
    "\n",
    "### Rotating Bits to the Left (`rotl` Function)\n",
    "\n",
    "The `rotl(x, n)` function rotates the bits of a **32-bit integer** to the **left** by `n` positions. It achieves this by shifting `x` left by `n` positions and moving the lost bits back to the right. To ensure the result remains within 32 bits, we apply a mask using `0xFFFFFFFF`. A similar approach is used in many bitwise operations, as explained in [this article](https://www.geeksforgeeks.org/python3-program-to-rotate-bits-of-a-number/)."
   ]
  },
  {
   "cell_type": "code",
   "execution_count": 5,
   "metadata": {},
   "outputs": [],
   "source": [
    "def rotr(x, n=1):\n",
    "    \"\"\"\n",
    "    Rotates the bits in a 32-bit unsigned integer to the right by n places.\n",
    "    \"\"\"\n",
    "    n = n % 32  # Ensure n is within valid bit range (0-31)\n",
    "    return (x >> n) | ((x << (32 - n)) & 0xFFFFFFFF)"
   ]
  },
  {
   "cell_type": "code",
   "execution_count": 6,
   "metadata": {},
   "outputs": [],
   "source": [
    "def ch(x, y, z):\n",
    "    \"\"\"\n",
    "    Chooses bits from y where x has bits set to 1, and from z where x has bits set to 0.\n",
    "    Returns:\n",
    "    int: Resulting 32-bit integer after bitwise choice\n",
    "    \"\"\"\n",
    "    return (x & y) | (~x & z)  # If x bit is 1 -> choose from y, else from z\n"
   ]
  },
  {
   "cell_type": "code",
   "execution_count": 7,
   "metadata": {},
   "outputs": [],
   "source": [
    "def maj(x, y, z):\n",
    "    \"\"\"\n",
    "    Computes majority vote of bits in x, y, and z.\n",
    "\n",
    "    Parameters:\n",
    "    x (int): 32-bit unsigned integer\n",
    "    y (int): 32-bit unsigned integer\n",
    "    z (int): 32-bit unsigned integer\n",
    "\n",
    "    Returns:\n",
    "    int: Resulting 32-bit integer after bitwise majority\n",
    "    \"\"\"\n",
    "    return (x & y) | (x & z) | (y & z)  # A bit is 1 if at least two of x, y, z have 1s"
   ]
  },
  {
   "cell_type": "code",
   "execution_count": null,
   "metadata": {},
   "outputs": [],
   "source": [
    "# Testing the functions\n",
    "if __name__ == \"__main__\":\n",
    "\n",
    "    print(f\"Original x: {bin(x)}\")\n",
    "    print(f\"rotl(x, 4): {bin(rotl(x, 4))}\")\n",
    "    print(f\"rotr(x, 4): {bin(rotr(x, 4))}\")\n",
    "    print(f\"ch(x, y, z): {bin(ch(x, y, z))}\")\n",
    "    print(f\"maj(x, y, z): {bin(maj(x, y, z))}\")"
   ]
  },
  {
   "attachments": {},
   "cell_type": "markdown",
   "metadata": {},
   "source": [
    "## Task 2: Hash Functions"
   ]
  },
  {
   "cell_type": "code",
   "execution_count": null,
   "metadata": {},
   "outputs": [],
   "source": []
  },
  {
   "attachments": {},
   "cell_type": "markdown",
   "metadata": {},
   "source": [
    "## Task 3: SHA256"
   ]
  },
  {
   "cell_type": "code",
   "execution_count": null,
   "metadata": {},
   "outputs": [],
   "source": []
  },
  {
   "attachments": {},
   "cell_type": "markdown",
   "metadata": {},
   "source": [
    "## Task 4: Prime Numbers"
   ]
  },
  {
   "cell_type": "code",
   "execution_count": null,
   "metadata": {},
   "outputs": [],
   "source": []
  },
  {
   "attachments": {},
   "cell_type": "markdown",
   "metadata": {},
   "source": [
    "## Task 5: Roots"
   ]
  },
  {
   "cell_type": "code",
   "execution_count": null,
   "metadata": {},
   "outputs": [],
   "source": []
  },
  {
   "attachments": {},
   "cell_type": "markdown",
   "metadata": {},
   "source": [
    "## Task 6: Proof of Work"
   ]
  },
  {
   "cell_type": "code",
   "execution_count": null,
   "metadata": {},
   "outputs": [],
   "source": []
  },
  {
   "attachments": {},
   "cell_type": "markdown",
   "metadata": {},
   "source": [
    "## Task 7: Turing Machines"
   ]
  },
  {
   "cell_type": "code",
   "execution_count": null,
   "metadata": {},
   "outputs": [],
   "source": []
  },
  {
   "attachments": {},
   "cell_type": "markdown",
   "metadata": {},
   "source": [
    "## Task 8: Computational Complexity"
   ]
  },
  {
   "cell_type": "code",
   "execution_count": null,
   "metadata": {},
   "outputs": [],
   "source": []
  }
 ],
 "metadata": {
  "kernelspec": {
   "display_name": "base",
   "language": "python",
   "name": "python3"
  },
  "language_info": {
   "codemirror_mode": {
    "name": "ipython",
    "version": 3
   },
   "file_extension": ".py",
   "mimetype": "text/x-python",
   "name": "python",
   "nbconvert_exporter": "python",
   "pygments_lexer": "ipython3",
   "version": "3.11.5"
  },
  "orig_nbformat": 4
 },
 "nbformat": 4,
 "nbformat_minor": 2
}
